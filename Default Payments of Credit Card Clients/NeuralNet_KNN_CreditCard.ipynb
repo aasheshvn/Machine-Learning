{
 "cells": [
  {
   "cell_type": "code",
   "execution_count": 153,
   "metadata": {},
   "outputs": [],
   "source": [
    "import pandas as pd\n",
    "import matplotlib.pyplot as plt\n",
    "import numpy as np\n",
    "import seaborn as sns\n",
    "from sklearn.preprocessing import StandardScaler\n",
    "from sklearn.model_selection import train_test_split\n",
    "from sklearn import metrics\n",
    "from sklearn.metrics import confusion_matrix\n",
    "import math\n",
    "from sklearn.metrics import accuracy_score\n",
    "from sklearn.model_selection import learning_curve\n",
    "from sklearn.model_selection import GridSearchCV\n",
    "from sklearn.utils import resample\n",
    "from sklearn.model_selection import cross_val_score\n",
    "from sklearn.metrics import f1_score\n",
    "from sklearn.metrics import classification_report\n",
    "import tensorflow\n",
    "import keras\n",
    "from keras.models import Sequential, Model\n",
    "from keras.layers import Dropout, Dense, Input\n",
    "import itertools\n",
    "from keras.losses import binary_crossentropy\n",
    "from keras.wrappers.scikit_learn import KerasClassifier\n",
    "from sklearn.utils import resample\n",
    "from sklearn.neighbors import KNeighborsClassifier\n",
    "from sklearn.metrics import recall_score"
   ]
  },
  {
   "cell_type": "markdown",
   "metadata": {},
   "source": [
    "### Importing the Dataset"
   ]
  },
  {
   "cell_type": "code",
   "execution_count": 86,
   "metadata": {},
   "outputs": [
    {
     "data": {
      "text/html": [
       "<div>\n",
       "<style scoped>\n",
       "    .dataframe tbody tr th:only-of-type {\n",
       "        vertical-align: middle;\n",
       "    }\n",
       "\n",
       "    .dataframe tbody tr th {\n",
       "        vertical-align: top;\n",
       "    }\n",
       "\n",
       "    .dataframe thead th {\n",
       "        text-align: right;\n",
       "    }\n",
       "</style>\n",
       "<table border=\"1\" class=\"dataframe\">\n",
       "  <thead>\n",
       "    <tr style=\"text-align: right;\">\n",
       "      <th></th>\n",
       "      <th>LIMIT_BAL</th>\n",
       "      <th>SEX</th>\n",
       "      <th>EDUCATION</th>\n",
       "      <th>MARRIAGE</th>\n",
       "      <th>AGE</th>\n",
       "      <th>PAY_0</th>\n",
       "      <th>PAY_2</th>\n",
       "      <th>PAY_3</th>\n",
       "      <th>PAY_4</th>\n",
       "      <th>PAY_5</th>\n",
       "      <th>...</th>\n",
       "      <th>BILL_AMT4</th>\n",
       "      <th>BILL_AMT5</th>\n",
       "      <th>BILL_AMT6</th>\n",
       "      <th>PAY_AMT1</th>\n",
       "      <th>PAY_AMT2</th>\n",
       "      <th>PAY_AMT3</th>\n",
       "      <th>PAY_AMT4</th>\n",
       "      <th>PAY_AMT5</th>\n",
       "      <th>PAY_AMT6</th>\n",
       "      <th>default_class</th>\n",
       "    </tr>\n",
       "  </thead>\n",
       "  <tbody>\n",
       "    <tr>\n",
       "      <th>0</th>\n",
       "      <td>20000.0</td>\n",
       "      <td>2</td>\n",
       "      <td>2</td>\n",
       "      <td>1</td>\n",
       "      <td>24</td>\n",
       "      <td>2</td>\n",
       "      <td>2</td>\n",
       "      <td>-1</td>\n",
       "      <td>-1</td>\n",
       "      <td>-2</td>\n",
       "      <td>...</td>\n",
       "      <td>0.0</td>\n",
       "      <td>0.0</td>\n",
       "      <td>0.0</td>\n",
       "      <td>0.0</td>\n",
       "      <td>689.0</td>\n",
       "      <td>0.0</td>\n",
       "      <td>0.0</td>\n",
       "      <td>0.0</td>\n",
       "      <td>0.0</td>\n",
       "      <td>1</td>\n",
       "    </tr>\n",
       "    <tr>\n",
       "      <th>1</th>\n",
       "      <td>120000.0</td>\n",
       "      <td>2</td>\n",
       "      <td>2</td>\n",
       "      <td>2</td>\n",
       "      <td>26</td>\n",
       "      <td>-1</td>\n",
       "      <td>2</td>\n",
       "      <td>0</td>\n",
       "      <td>0</td>\n",
       "      <td>0</td>\n",
       "      <td>...</td>\n",
       "      <td>3272.0</td>\n",
       "      <td>3455.0</td>\n",
       "      <td>3261.0</td>\n",
       "      <td>0.0</td>\n",
       "      <td>1000.0</td>\n",
       "      <td>1000.0</td>\n",
       "      <td>1000.0</td>\n",
       "      <td>0.0</td>\n",
       "      <td>2000.0</td>\n",
       "      <td>1</td>\n",
       "    </tr>\n",
       "    <tr>\n",
       "      <th>2</th>\n",
       "      <td>90000.0</td>\n",
       "      <td>2</td>\n",
       "      <td>2</td>\n",
       "      <td>2</td>\n",
       "      <td>34</td>\n",
       "      <td>0</td>\n",
       "      <td>0</td>\n",
       "      <td>0</td>\n",
       "      <td>0</td>\n",
       "      <td>0</td>\n",
       "      <td>...</td>\n",
       "      <td>14331.0</td>\n",
       "      <td>14948.0</td>\n",
       "      <td>15549.0</td>\n",
       "      <td>1518.0</td>\n",
       "      <td>1500.0</td>\n",
       "      <td>1000.0</td>\n",
       "      <td>1000.0</td>\n",
       "      <td>1000.0</td>\n",
       "      <td>5000.0</td>\n",
       "      <td>0</td>\n",
       "    </tr>\n",
       "    <tr>\n",
       "      <th>3</th>\n",
       "      <td>50000.0</td>\n",
       "      <td>2</td>\n",
       "      <td>2</td>\n",
       "      <td>1</td>\n",
       "      <td>37</td>\n",
       "      <td>0</td>\n",
       "      <td>0</td>\n",
       "      <td>0</td>\n",
       "      <td>0</td>\n",
       "      <td>0</td>\n",
       "      <td>...</td>\n",
       "      <td>28314.0</td>\n",
       "      <td>28959.0</td>\n",
       "      <td>29547.0</td>\n",
       "      <td>2000.0</td>\n",
       "      <td>2019.0</td>\n",
       "      <td>1200.0</td>\n",
       "      <td>1100.0</td>\n",
       "      <td>1069.0</td>\n",
       "      <td>1000.0</td>\n",
       "      <td>0</td>\n",
       "    </tr>\n",
       "    <tr>\n",
       "      <th>4</th>\n",
       "      <td>50000.0</td>\n",
       "      <td>1</td>\n",
       "      <td>2</td>\n",
       "      <td>1</td>\n",
       "      <td>57</td>\n",
       "      <td>-1</td>\n",
       "      <td>0</td>\n",
       "      <td>-1</td>\n",
       "      <td>0</td>\n",
       "      <td>0</td>\n",
       "      <td>...</td>\n",
       "      <td>20940.0</td>\n",
       "      <td>19146.0</td>\n",
       "      <td>19131.0</td>\n",
       "      <td>2000.0</td>\n",
       "      <td>36681.0</td>\n",
       "      <td>10000.0</td>\n",
       "      <td>9000.0</td>\n",
       "      <td>689.0</td>\n",
       "      <td>679.0</td>\n",
       "      <td>0</td>\n",
       "    </tr>\n",
       "  </tbody>\n",
       "</table>\n",
       "<p>5 rows × 24 columns</p>\n",
       "</div>"
      ],
      "text/plain": [
       "   LIMIT_BAL  SEX  EDUCATION  MARRIAGE  AGE  PAY_0  PAY_2  PAY_3  PAY_4  \\\n",
       "0    20000.0    2          2         1   24      2      2     -1     -1   \n",
       "1   120000.0    2          2         2   26     -1      2      0      0   \n",
       "2    90000.0    2          2         2   34      0      0      0      0   \n",
       "3    50000.0    2          2         1   37      0      0      0      0   \n",
       "4    50000.0    1          2         1   57     -1      0     -1      0   \n",
       "\n",
       "   PAY_5      ...        BILL_AMT4  BILL_AMT5  BILL_AMT6  PAY_AMT1  PAY_AMT2  \\\n",
       "0     -2      ...              0.0        0.0        0.0       0.0     689.0   \n",
       "1      0      ...           3272.0     3455.0     3261.0       0.0    1000.0   \n",
       "2      0      ...          14331.0    14948.0    15549.0    1518.0    1500.0   \n",
       "3      0      ...          28314.0    28959.0    29547.0    2000.0    2019.0   \n",
       "4      0      ...          20940.0    19146.0    19131.0    2000.0   36681.0   \n",
       "\n",
       "   PAY_AMT3  PAY_AMT4  PAY_AMT5  PAY_AMT6  default_class  \n",
       "0       0.0       0.0       0.0       0.0              1  \n",
       "1    1000.0    1000.0       0.0    2000.0              1  \n",
       "2    1000.0    1000.0    1000.0    5000.0              0  \n",
       "3    1200.0    1100.0    1069.0    1000.0              0  \n",
       "4   10000.0    9000.0     689.0     679.0              0  \n",
       "\n",
       "[5 rows x 24 columns]"
      ]
     },
     "execution_count": 86,
     "metadata": {},
     "output_type": "execute_result"
    }
   ],
   "source": [
    "df = pd.read_csv(\"UCI_Credit_Card.csv\")\n",
    "df=df.drop(columns='ID')\n",
    "df = df.rename(columns = {'default.payment.next.month':'default_class'})\n",
    "df.head()"
   ]
  },
  {
   "cell_type": "markdown",
   "metadata": {},
   "source": [
    "### Data Exploration and Data Cleaning"
   ]
  },
  {
   "cell_type": "code",
   "execution_count": 87,
   "metadata": {},
   "outputs": [
    {
     "name": "stdout",
     "output_type": "stream",
     "text": [
      "   default_class\n",
      "0          23364\n",
      "1           6636\n",
      "\n",
      "      SEX\n",
      "2  18112\n",
      "1  11888\n",
      "\n",
      "    EDUCATION\n",
      "2      14030\n",
      "1      10585\n",
      "3       4917\n",
      "5        280\n",
      "4        123\n",
      "6         51\n",
      "0         14\n",
      "\n",
      "    MARRIAGE\n",
      "2     15964\n",
      "1     13659\n",
      "3       323\n",
      "0        54\n"
     ]
    }
   ],
   "source": [
    "print(pd.DataFrame(df['default_class'].value_counts()))\n",
    "print(\"\\n\",pd.DataFrame(df['SEX'].value_counts()))\n",
    "print(\"\\n\",pd.DataFrame(df['EDUCATION'].value_counts()))\n",
    "print(\"\\n\",pd.DataFrame(df['MARRIAGE'].value_counts()))"
   ]
  },
  {
   "cell_type": "markdown",
   "metadata": {},
   "source": [
    "### Default Class type = 1 is only 22% of the entire dataset. It is a highly unbalanced dataset."
   ]
  },
  {
   "cell_type": "markdown",
   "metadata": {},
   "source": [
    "#### Education categories 4, 5, 6, 0 can be grouped under 'Other' category"
   ]
  },
  {
   "cell_type": "code",
   "execution_count": 88,
   "metadata": {},
   "outputs": [
    {
     "data": {
      "text/html": [
       "<div>\n",
       "<style scoped>\n",
       "    .dataframe tbody tr th:only-of-type {\n",
       "        vertical-align: middle;\n",
       "    }\n",
       "\n",
       "    .dataframe tbody tr th {\n",
       "        vertical-align: top;\n",
       "    }\n",
       "\n",
       "    .dataframe thead th {\n",
       "        text-align: right;\n",
       "    }\n",
       "</style>\n",
       "<table border=\"1\" class=\"dataframe\">\n",
       "  <thead>\n",
       "    <tr style=\"text-align: right;\">\n",
       "      <th></th>\n",
       "      <th>EDUCATION</th>\n",
       "    </tr>\n",
       "  </thead>\n",
       "  <tbody>\n",
       "    <tr>\n",
       "      <th>2</th>\n",
       "      <td>14030</td>\n",
       "    </tr>\n",
       "    <tr>\n",
       "      <th>1</th>\n",
       "      <td>10585</td>\n",
       "    </tr>\n",
       "    <tr>\n",
       "      <th>3</th>\n",
       "      <td>4917</td>\n",
       "    </tr>\n",
       "    <tr>\n",
       "      <th>4</th>\n",
       "      <td>468</td>\n",
       "    </tr>\n",
       "  </tbody>\n",
       "</table>\n",
       "</div>"
      ],
      "text/plain": [
       "   EDUCATION\n",
       "2      14030\n",
       "1      10585\n",
       "3       4917\n",
       "4        468"
      ]
     },
     "execution_count": 88,
     "metadata": {},
     "output_type": "execute_result"
    }
   ],
   "source": [
    "df.loc[(df['EDUCATION'] == 5) | (df['EDUCATION'] == 6) | (df['EDUCATION'] == 0),'EDUCATION'] = 4\n",
    "pd.DataFrame(df['EDUCATION'].value_counts())"
   ]
  },
  {
   "cell_type": "markdown",
   "metadata": {},
   "source": [
    "#### Marriage categories 3, 0 can be grouped under 'Other' category"
   ]
  },
  {
   "cell_type": "code",
   "execution_count": 89,
   "metadata": {},
   "outputs": [
    {
     "data": {
      "text/html": [
       "<div>\n",
       "<style scoped>\n",
       "    .dataframe tbody tr th:only-of-type {\n",
       "        vertical-align: middle;\n",
       "    }\n",
       "\n",
       "    .dataframe tbody tr th {\n",
       "        vertical-align: top;\n",
       "    }\n",
       "\n",
       "    .dataframe thead th {\n",
       "        text-align: right;\n",
       "    }\n",
       "</style>\n",
       "<table border=\"1\" class=\"dataframe\">\n",
       "  <thead>\n",
       "    <tr style=\"text-align: right;\">\n",
       "      <th></th>\n",
       "      <th>MARRIAGE</th>\n",
       "    </tr>\n",
       "  </thead>\n",
       "  <tbody>\n",
       "    <tr>\n",
       "      <th>2</th>\n",
       "      <td>15964</td>\n",
       "    </tr>\n",
       "    <tr>\n",
       "      <th>1</th>\n",
       "      <td>13659</td>\n",
       "    </tr>\n",
       "    <tr>\n",
       "      <th>3</th>\n",
       "      <td>377</td>\n",
       "    </tr>\n",
       "  </tbody>\n",
       "</table>\n",
       "</div>"
      ],
      "text/plain": [
       "   MARRIAGE\n",
       "2     15964\n",
       "1     13659\n",
       "3       377"
      ]
     },
     "execution_count": 89,
     "metadata": {},
     "output_type": "execute_result"
    }
   ],
   "source": [
    "df.loc[df.MARRIAGE == 0, 'MARRIAGE'] = 3\n",
    "pd.DataFrame(df['MARRIAGE'].value_counts())"
   ]
  },
  {
   "cell_type": "markdown",
   "metadata": {},
   "source": [
    "### Dummy Variables creation for categorical variables"
   ]
  },
  {
   "cell_type": "code",
   "execution_count": 90,
   "metadata": {},
   "outputs": [],
   "source": [
    "df = pd.get_dummies(df, columns=['SEX', 'EDUCATION','MARRIAGE'])"
   ]
  },
  {
   "cell_type": "markdown",
   "metadata": {},
   "source": [
    "### Feature Scaling"
   ]
  },
  {
   "cell_type": "code",
   "execution_count": 97,
   "metadata": {},
   "outputs": [],
   "source": [
    "def feature_scaling(df_unscaled):\n",
    "    scaler = StandardScaler()\n",
    "    scaled_data = scaler.fit_transform(df_unscaled)\n",
    "    scaled_data = pd.DataFrame(scaled_data, columns = df_unscaled.columns)\n",
    "    return(scaled_data)"
   ]
  },
  {
   "cell_type": "markdown",
   "metadata": {},
   "source": [
    "### Train Test Split"
   ]
  },
  {
   "cell_type": "code",
   "execution_count": 179,
   "metadata": {},
   "outputs": [
    {
     "name": "stderr",
     "output_type": "stream",
     "text": [
      "C:\\Users\\aashe\\Anaconda3\\lib\\site-packages\\pandas\\core\\indexing.py:543: SettingWithCopyWarning: \n",
      "A value is trying to be set on a copy of a slice from a DataFrame.\n",
      "Try using .loc[row_indexer,col_indexer] = value instead\n",
      "\n",
      "See the caveats in the documentation: http://pandas.pydata.org/pandas-docs/stable/indexing.html#indexing-view-versus-copy\n",
      "  self.obj[item] = s\n"
     ]
    }
   ],
   "source": [
    "x=df.loc[:,df.columns != 'default_class']\n",
    "x.iloc[:,0:20]=feature_scaling(x.iloc[:,0:20])\n",
    "y=df['default_class']\n",
    "X_train, X_test, y_train, y_test = train_test_split(x, y, test_size=0.3,random_state=1)"
   ]
  },
  {
   "cell_type": "code",
   "execution_count": 180,
   "metadata": {},
   "outputs": [
    {
     "data": {
      "text/plain": [
       "0    16364\n",
       "1     4636\n",
       "Name: default_class, dtype: int64"
      ]
     },
     "execution_count": 180,
     "metadata": {},
     "output_type": "execute_result"
    }
   ],
   "source": [
    "y_train.value_counts()"
   ]
  },
  {
   "cell_type": "markdown",
   "metadata": {},
   "source": [
    "### Under sampling the Default Class 0"
   ]
  },
  {
   "cell_type": "code",
   "execution_count": 181,
   "metadata": {},
   "outputs": [
    {
     "name": "stdout",
     "output_type": "stream",
     "text": [
      "0    7000\n",
      "1    4636\n",
      "Name: default_class, dtype: int64\n"
     ]
    },
    {
     "data": {
      "text/html": [
       "<div>\n",
       "<style scoped>\n",
       "    .dataframe tbody tr th:only-of-type {\n",
       "        vertical-align: middle;\n",
       "    }\n",
       "\n",
       "    .dataframe tbody tr th {\n",
       "        vertical-align: top;\n",
       "    }\n",
       "\n",
       "    .dataframe thead th {\n",
       "        text-align: right;\n",
       "    }\n",
       "</style>\n",
       "<table border=\"1\" class=\"dataframe\">\n",
       "  <thead>\n",
       "    <tr style=\"text-align: right;\">\n",
       "      <th></th>\n",
       "      <th>LIMIT_BAL</th>\n",
       "      <th>AGE</th>\n",
       "      <th>PAY_0</th>\n",
       "      <th>PAY_2</th>\n",
       "      <th>PAY_3</th>\n",
       "      <th>PAY_4</th>\n",
       "      <th>PAY_5</th>\n",
       "      <th>PAY_6</th>\n",
       "      <th>BILL_AMT1</th>\n",
       "      <th>BILL_AMT2</th>\n",
       "      <th>...</th>\n",
       "      <th>PAY_AMT6</th>\n",
       "      <th>SEX_1</th>\n",
       "      <th>SEX_2</th>\n",
       "      <th>EDUCATION_1</th>\n",
       "      <th>EDUCATION_2</th>\n",
       "      <th>EDUCATION_3</th>\n",
       "      <th>EDUCATION_4</th>\n",
       "      <th>MARRIAGE_1</th>\n",
       "      <th>MARRIAGE_2</th>\n",
       "      <th>MARRIAGE_3</th>\n",
       "    </tr>\n",
       "  </thead>\n",
       "  <tbody>\n",
       "    <tr>\n",
       "      <th>8447</th>\n",
       "      <td>-0.751350</td>\n",
       "      <td>-1.029047</td>\n",
       "      <td>0.014861</td>\n",
       "      <td>0.111736</td>\n",
       "      <td>0.138865</td>\n",
       "      <td>0.188746</td>\n",
       "      <td>0.234917</td>\n",
       "      <td>0.253137</td>\n",
       "      <td>-0.377734</td>\n",
       "      <td>-0.365381</td>\n",
       "      <td>...</td>\n",
       "      <td>0.004922</td>\n",
       "      <td>0</td>\n",
       "      <td>1</td>\n",
       "      <td>0</td>\n",
       "      <td>1</td>\n",
       "      <td>0</td>\n",
       "      <td>0</td>\n",
       "      <td>0</td>\n",
       "      <td>1</td>\n",
       "      <td>0</td>\n",
       "    </tr>\n",
       "    <tr>\n",
       "      <th>4535</th>\n",
       "      <td>0.481833</td>\n",
       "      <td>0.164303</td>\n",
       "      <td>0.904712</td>\n",
       "      <td>-1.558876</td>\n",
       "      <td>-1.532192</td>\n",
       "      <td>-1.521944</td>\n",
       "      <td>-1.530046</td>\n",
       "      <td>-1.486041</td>\n",
       "      <td>-0.695642</td>\n",
       "      <td>-0.690983</td>\n",
       "      <td>...</td>\n",
       "      <td>-0.293382</td>\n",
       "      <td>1</td>\n",
       "      <td>0</td>\n",
       "      <td>0</td>\n",
       "      <td>1</td>\n",
       "      <td>0</td>\n",
       "      <td>0</td>\n",
       "      <td>0</td>\n",
       "      <td>1</td>\n",
       "      <td>0</td>\n",
       "    </tr>\n",
       "    <tr>\n",
       "      <th>27198</th>\n",
       "      <td>-1.059646</td>\n",
       "      <td>-0.052670</td>\n",
       "      <td>0.904712</td>\n",
       "      <td>-0.723570</td>\n",
       "      <td>-0.696663</td>\n",
       "      <td>1.899436</td>\n",
       "      <td>0.234917</td>\n",
       "      <td>0.253137</td>\n",
       "      <td>-0.695642</td>\n",
       "      <td>-0.322415</td>\n",
       "      <td>...</td>\n",
       "      <td>-0.209004</td>\n",
       "      <td>1</td>\n",
       "      <td>0</td>\n",
       "      <td>0</td>\n",
       "      <td>1</td>\n",
       "      <td>0</td>\n",
       "      <td>0</td>\n",
       "      <td>1</td>\n",
       "      <td>0</td>\n",
       "      <td>0</td>\n",
       "    </tr>\n",
       "    <tr>\n",
       "      <th>15632</th>\n",
       "      <td>-0.597202</td>\n",
       "      <td>-1.137534</td>\n",
       "      <td>0.904712</td>\n",
       "      <td>-0.723570</td>\n",
       "      <td>-0.696663</td>\n",
       "      <td>-0.666599</td>\n",
       "      <td>-0.647565</td>\n",
       "      <td>1.992316</td>\n",
       "      <td>-0.695642</td>\n",
       "      <td>-0.679181</td>\n",
       "      <td>...</td>\n",
       "      <td>-0.261318</td>\n",
       "      <td>0</td>\n",
       "      <td>1</td>\n",
       "      <td>0</td>\n",
       "      <td>1</td>\n",
       "      <td>0</td>\n",
       "      <td>0</td>\n",
       "      <td>0</td>\n",
       "      <td>1</td>\n",
       "      <td>0</td>\n",
       "    </tr>\n",
       "    <tr>\n",
       "      <th>17697</th>\n",
       "      <td>-0.828424</td>\n",
       "      <td>0.598248</td>\n",
       "      <td>1.794564</td>\n",
       "      <td>0.111736</td>\n",
       "      <td>0.138865</td>\n",
       "      <td>1.899436</td>\n",
       "      <td>0.234917</td>\n",
       "      <td>0.253137</td>\n",
       "      <td>0.071429</td>\n",
       "      <td>0.090820</td>\n",
       "      <td>...</td>\n",
       "      <td>-0.180878</td>\n",
       "      <td>0</td>\n",
       "      <td>1</td>\n",
       "      <td>0</td>\n",
       "      <td>1</td>\n",
       "      <td>0</td>\n",
       "      <td>0</td>\n",
       "      <td>1</td>\n",
       "      <td>0</td>\n",
       "      <td>0</td>\n",
       "    </tr>\n",
       "  </tbody>\n",
       "</table>\n",
       "<p>5 rows × 29 columns</p>\n",
       "</div>"
      ],
      "text/plain": [
       "       LIMIT_BAL       AGE     PAY_0     PAY_2     PAY_3     PAY_4     PAY_5  \\\n",
       "8447   -0.751350 -1.029047  0.014861  0.111736  0.138865  0.188746  0.234917   \n",
       "4535    0.481833  0.164303  0.904712 -1.558876 -1.532192 -1.521944 -1.530046   \n",
       "27198  -1.059646 -0.052670  0.904712 -0.723570 -0.696663  1.899436  0.234917   \n",
       "15632  -0.597202 -1.137534  0.904712 -0.723570 -0.696663 -0.666599 -0.647565   \n",
       "17697  -0.828424  0.598248  1.794564  0.111736  0.138865  1.899436  0.234917   \n",
       "\n",
       "          PAY_6  BILL_AMT1  BILL_AMT2     ...      PAY_AMT6  SEX_1  SEX_2  \\\n",
       "8447   0.253137  -0.377734  -0.365381     ...      0.004922      0      1   \n",
       "4535  -1.486041  -0.695642  -0.690983     ...     -0.293382      1      0   \n",
       "27198  0.253137  -0.695642  -0.322415     ...     -0.209004      1      0   \n",
       "15632  1.992316  -0.695642  -0.679181     ...     -0.261318      0      1   \n",
       "17697  0.253137   0.071429   0.090820     ...     -0.180878      0      1   \n",
       "\n",
       "       EDUCATION_1  EDUCATION_2  EDUCATION_3  EDUCATION_4  MARRIAGE_1  \\\n",
       "8447             0            1            0            0           0   \n",
       "4535             0            1            0            0           0   \n",
       "27198            0            1            0            0           1   \n",
       "15632            0            1            0            0           0   \n",
       "17697            0            1            0            0           1   \n",
       "\n",
       "       MARRIAGE_2  MARRIAGE_3  \n",
       "8447            1           0  \n",
       "4535            1           0  \n",
       "27198           0           0  \n",
       "15632           1           0  \n",
       "17697           0           0  \n",
       "\n",
       "[5 rows x 29 columns]"
      ]
     },
     "execution_count": 181,
     "metadata": {},
     "output_type": "execute_result"
    }
   ],
   "source": [
    "xy_train = pd.concat([X_train, y_train], axis=1)\n",
    "not_default = xy_train[xy_train['default_class']==0]\n",
    "default = xy_train[xy_train['default_class']==1]\n",
    "\n",
    "default_undersampled_df = resample(not_default, replace=True, n_samples=7000, random_state=17) \n",
    "undersampled_df = pd.concat([default, default_undersampled_df])\n",
    "print(undersampled_df['default_class'].value_counts())\n",
    "\n",
    "X_train_undersampled = undersampled_df.loc[:,undersampled_df.columns != 'default_class']\n",
    "y_train_undersampled = undersampled_df['default_class']\n",
    "X_train_undersampled.head()"
   ]
  },
  {
   "cell_type": "code",
   "execution_count": 182,
   "metadata": {},
   "outputs": [],
   "source": [
    "X_train = X_train_undersampled\n",
    "y_train = y_train_undersampled"
   ]
  },
  {
   "cell_type": "code",
   "execution_count": 183,
   "metadata": {},
   "outputs": [
    {
     "data": {
      "text/plain": [
       "0    7000\n",
       "1    4636\n",
       "Name: default_class, dtype: int64"
      ]
     },
     "execution_count": 183,
     "metadata": {},
     "output_type": "execute_result"
    }
   ],
   "source": [
    "y_train.value_counts()"
   ]
  },
  {
   "cell_type": "markdown",
   "metadata": {},
   "source": [
    "### Experimenting with combination of neurons and layers"
   ]
  },
  {
   "cell_type": "code",
   "execution_count": 189,
   "metadata": {},
   "outputs": [
    {
     "data": {
      "text/html": [
       "<div>\n",
       "<style scoped>\n",
       "    .dataframe tbody tr th:only-of-type {\n",
       "        vertical-align: middle;\n",
       "    }\n",
       "\n",
       "    .dataframe tbody tr th {\n",
       "        vertical-align: top;\n",
       "    }\n",
       "\n",
       "    .dataframe thead th {\n",
       "        text-align: right;\n",
       "    }\n",
       "</style>\n",
       "<table border=\"1\" class=\"dataframe\">\n",
       "  <thead>\n",
       "    <tr style=\"text-align: right;\">\n",
       "      <th></th>\n",
       "      <th>F1 Score</th>\n",
       "      <th>Layer</th>\n",
       "      <th>Neurons</th>\n",
       "    </tr>\n",
       "  </thead>\n",
       "  <tbody>\n",
       "    <tr>\n",
       "      <th>0</th>\n",
       "      <td>0.528328</td>\n",
       "      <td>3</td>\n",
       "      <td>(15, 22, 15)</td>\n",
       "    </tr>\n",
       "    <tr>\n",
       "      <th>0</th>\n",
       "      <td>0.526803</td>\n",
       "      <td>3</td>\n",
       "      <td>(22, 22, 29)</td>\n",
       "    </tr>\n",
       "    <tr>\n",
       "      <th>0</th>\n",
       "      <td>0.524469</td>\n",
       "      <td>2</td>\n",
       "      <td>(22, 22)</td>\n",
       "    </tr>\n",
       "    <tr>\n",
       "      <th>0</th>\n",
       "      <td>0.523764</td>\n",
       "      <td>2</td>\n",
       "      <td>(15, 29)</td>\n",
       "    </tr>\n",
       "    <tr>\n",
       "      <th>0</th>\n",
       "      <td>0.520499</td>\n",
       "      <td>3</td>\n",
       "      <td>(15, 15, 29)</td>\n",
       "    </tr>\n",
       "    <tr>\n",
       "      <th>0</th>\n",
       "      <td>0.519939</td>\n",
       "      <td>2</td>\n",
       "      <td>(15, 15)</td>\n",
       "    </tr>\n",
       "    <tr>\n",
       "      <th>0</th>\n",
       "      <td>0.519769</td>\n",
       "      <td>3</td>\n",
       "      <td>(22, 22, 15)</td>\n",
       "    </tr>\n",
       "    <tr>\n",
       "      <th>0</th>\n",
       "      <td>0.519513</td>\n",
       "      <td>2</td>\n",
       "      <td>(29, 29)</td>\n",
       "    </tr>\n",
       "    <tr>\n",
       "      <th>0</th>\n",
       "      <td>0.51932</td>\n",
       "      <td>3</td>\n",
       "      <td>(15, 29, 22)</td>\n",
       "    </tr>\n",
       "    <tr>\n",
       "      <th>0</th>\n",
       "      <td>0.518914</td>\n",
       "      <td>3</td>\n",
       "      <td>(22, 29, 22)</td>\n",
       "    </tr>\n",
       "  </tbody>\n",
       "</table>\n",
       "</div>"
      ],
      "text/plain": [
       "   F1 Score Layer       Neurons\n",
       "0  0.528328     3  (15, 22, 15)\n",
       "0  0.526803     3  (22, 22, 29)\n",
       "0  0.524469     2      (22, 22)\n",
       "0  0.523764     2      (15, 29)\n",
       "0  0.520499     3  (15, 15, 29)\n",
       "0  0.519939     2      (15, 15)\n",
       "0  0.519769     3  (22, 22, 15)\n",
       "0  0.519513     2      (29, 29)\n",
       "0   0.51932     3  (15, 29, 22)\n",
       "0  0.518914     3  (22, 29, 22)"
      ]
     },
     "execution_count": 189,
     "metadata": {},
     "output_type": "execute_result"
    }
   ],
   "source": [
    "initial_neurons = [15,22,29]\n",
    "layers_combo = [2,3]\n",
    "layer_neurons_df =pd.DataFrame()\n",
    "for layer_no in layers_combo:\n",
    "    neurons_combo = [p for p in itertools.product(initial_neurons, repeat=layer_no)]\n",
    "    for neurons in neurons_combo:\n",
    "        model = Sequential()\n",
    "        for layer in range(1,layer_no+1):\n",
    "            if (layer == 1):\n",
    "                model.add(Dense(neurons[0], input_dim=29, activation='sigmoid'))\n",
    "            else:\n",
    "                model.add(Dense(neurons[layer-1],activation='sigmoid'))\n",
    "        model.add(Dense(1, activation='sigmoid'))\n",
    "        optimizer_value = keras.optimizers.Adam(learning_rate=0.005)\n",
    "        model.compile(optimizer=optimizer_value, loss='binary_crossentropy')\n",
    "        model.fit(X_train, y_train, batch_size = 200,epochs=100,verbose=0)\n",
    "        pred = model.predict_classes(X_test)\n",
    "        score = f1_score(y_test,pred)\n",
    "        values = [score,layer_no,neurons]\n",
    "        values = pd.DataFrame(values).T\n",
    "        layer_neurons_df = pd.concat([layer_neurons_df,values])\n",
    "\n",
    "layer_neurons_df.columns = ['F1 Score','Layer','Neurons']\n",
    "top10 = layer_neurons_df.sort_values(by=['F1 Score'],ascending=False).head(10)\n",
    "top10"
   ]
  },
  {
   "cell_type": "markdown",
   "metadata": {},
   "source": [
    "### Plot for F1 Score Vs (Neurons and layers)"
   ]
  },
  {
   "cell_type": "code",
   "execution_count": 149,
   "metadata": {},
   "outputs": [
    {
     "data": {
      "image/png": "[encoded data removed]",
      "text/plain": [
       "<Figure size 432x432 with 1 Axes>"
      ]
     },
     "metadata": {},
     "output_type": "display_data"
    }
   ],
   "source": [
    "plt.figure(figsize=(6,6))\n",
    "flatui = [\"#9b59b6\", \"#3498db\", \"#95a5a6\"]\n",
    "sns.barplot(data=top10 ,x='F1 Score', y='Neurons',hue='Layer')\n",
    "plt.title(\"F1 Score Vs (Neurons and Layer)\",fontsize=20)\n",
    "plt.xlabel(\"F1 Score\",fontsize=20)\n",
    "plt.ylabel(\"Neurons\",fontsize=20)\n",
    "plt.show()"
   ]
  },
  {
   "cell_type": "markdown",
   "metadata": {},
   "source": [
    "### Experimenting with Epochs"
   ]
  },
  {
   "cell_type": "code",
   "execution_count": 186,
   "metadata": {},
   "outputs": [
    {
     "name": "stdout",
     "output_type": "stream",
     "text": [
      "5 Training F1 Score:  0.6047160623473636 Validation F1 Score:  0.5986613836426324\n",
      "10 Training F1 Score:  0.6123431864585042 Validation F1 Score:  0.6007445913032134\n",
      "20 Training F1 Score:  0.6247461379101834 Validation F1 Score:  0.6082624324707133\n",
      "50 Training F1 Score:  0.6578779216108753 Validation F1 Score:  0.6212707552819936\n",
      "100 Training F1 Score:  0.6680417518763446 Validation F1 Score:  0.6154153334628765\n",
      "150 Training F1 Score:  0.6806038033424885 Validation F1 Score:  0.6055458311894276\n",
      "200 Training F1 Score:  0.6936129166859646 Validation F1 Score:  0.6143160798142258\n",
      "300 Training F1 Score:  0.7192127229896558 Validation F1 Score:  0.6051753011871638\n",
      "350 Training F1 Score:  0.7250634484850247 Validation F1 Score:  0.6068836638924153\n",
      "400 Training F1 Score:  0.7333438218699918 Validation F1 Score:  0.6010049471947241\n"
     ]
    }
   ],
   "source": [
    "from sklearn.model_selection import StratifiedKFold\n",
    "kfold = StratifiedKFold(n_splits=5, shuffle=True, random_state=10)\n",
    "\n",
    "epoch_list = [5,10,20,50,100,150,200,300,350,400]\n",
    "y_train = pd.DataFrame(y_train)\n",
    "epoch_df_validation = pd.DataFrame()\n",
    "epoch_df_train = pd.DataFrame()\n",
    "\n",
    "for epoch in epoch_list:\n",
    "    scores_validation = []\n",
    "    scores_train = []\n",
    "    for train, test in kfold.split(X_train, y_train):\n",
    "        train = train.tolist()\n",
    "        test = test.tolist()\n",
    "        \n",
    "        model = Sequential()  ###Creating the model\n",
    "        model.add(Dense(15, input_dim=29, activation='sigmoid'))    ###Adding layers\n",
    "        model.add(Dense(22, activation='sigmoid'))\n",
    "        model.add(Dense(29, activation='sigmoid'))\n",
    "        model.add(Dense(1, activation='sigmoid'))\n",
    "        optimizer_value = keras.optimizers.Adam(learning_rate=0.01)\n",
    "        model.compile(loss='binary_crossentropy', optimizer=optimizer_value)\n",
    "        \n",
    "        # Fitting the model and getting the training scores\n",
    "        model.fit(X_train.iloc[train,:], y_train.iloc[train,:], batch_size=200,epochs=epoch, verbose=0)\n",
    "        \n",
    "        pred_train = model.predict_classes(X_train.iloc[train,:])\n",
    "        train_scores = f1_score(y_train.iloc[train,:],pred_train)\n",
    "        scores_train.append(train_scores)\n",
    "        # Evaluating the model\n",
    "        pred_test = model.predict_classes(X_train.iloc[test,:])\n",
    "        validation_scores = f1_score(y_train.iloc[test,:],pred_test)\n",
    "        scores_validation.append(validation_scores)\n",
    "    \n",
    "    print(epoch,\"Training F1 Score: \" ,np.mean(scores_train),\"Validation F1 Score: \",np.mean(scores_validation))\n",
    "    \n",
    "    validation_values = [epoch,np.mean(scores_validation)]\n",
    "    validation_values = pd.DataFrame(validation_values).T\n",
    "    epoch_df_validation = pd.concat([epoch_df_validation,validation_values])\n",
    "    \n",
    "    train_values = [epoch,np.mean(scores_train)]\n",
    "    train_values = pd.DataFrame(train_values).T\n",
    "    epoch_df_train = pd.concat([epoch_df_train,train_values])\n",
    "    \n",
    "epoch_df_validation.columns = ['Epoch','F1 Score']\n",
    "epoch_df_train.columns = ['Epoch','F1 Score']\n"
   ]
  },
  {
   "cell_type": "markdown",
   "metadata": {},
   "source": [
    "### Plot for Epochs and F1 Score"
   ]
  },
  {
   "cell_type": "code",
   "execution_count": 187,
   "metadata": {},
   "outputs": [
    {
     "data": {
      "image/png": "[encoded data removed]",
      "text/plain": [
       "<Figure size 432x432 with 1 Axes>"
      ]
     },
     "metadata": {},
     "output_type": "display_data"
    }
   ],
   "source": [
    "\n",
    "plt.figure(figsize=(6,6))\n",
    "plt.plot(epoch_df_train['Epoch'],epoch_df_train['F1 Score'])\n",
    "plt.plot(epoch_df_validation['Epoch'],epoch_df_validation['F1 Score'])\n",
    "plt.title(\"Epochs Vs F1 Score\",fontsize=20)\n",
    "plt.xlabel(\"Epoch\",fontsize=20)\n",
    "plt.ylabel(\"F1 Score\",fontsize=20)\n",
    "plt.legend(['Training','Validation'])\n",
    "plt.show()"
   ]
  },
  {
   "cell_type": "markdown",
   "metadata": {},
   "source": [
    "### Experimenting with number of hidden layers"
   ]
  },
  {
   "cell_type": "code",
   "execution_count": 123,
   "metadata": {},
   "outputs": [
    {
     "name": "stdout",
     "output_type": "stream",
     "text": [
      "1 Training F1 Score:  0.6610585900776231 Validation F1 Score:  0.6336701705704176\n",
      "2 Training F1 Score:  0.6671835453364494 Validation F1 Score:  0.6364528788338139\n",
      "3 Training F1 Score:  0.6866415192814731 Validation F1 Score:  0.6419308125526907\n",
      "4 Training F1 Score:  0.692159035555844 Validation F1 Score:  0.6512581166801743\n",
      "5 Training F1 Score:  0.6868854805035665 Validation F1 Score:  0.6534342733530256\n"
     ]
    }
   ],
   "source": [
    "from sklearn.model_selection import StratifiedKFold\n",
    "kfold = StratifiedKFold(n_splits=5, shuffle=True, random_state=10)\n",
    "layers_list = [1,2,3,4,5]  ###Hidden Layers\n",
    "y_train = pd.DataFrame(y_train)\n",
    "df_layers_train = pd.DataFrame()\n",
    "df_layers_validation = pd.DataFrame()\n",
    "\n",
    "for layer in layers_list:\n",
    "    model = Sequential()\n",
    "    scores_validation = []\n",
    "    scores_train = []\n",
    "    for tmp in range(layer):\n",
    "        if tmp == 0:\n",
    "            model.add(Dense(15, input_dim=29,activation='sigmoid'))\n",
    "        elif tmp == 1:\n",
    "            model.add(Dense(22, activation='sigmoid'))\n",
    "        elif tmp == 2:\n",
    "            model.add(Dense(29, activation='sigmoid'))\n",
    "        else:\n",
    "            model.add(Dense(15, activation='sigmoid'))\n",
    "    model.add(Dense(1, activation='sigmoid'))\n",
    "    for train, test in kfold.split(X_train, y_train):\n",
    "        train = train.tolist()\n",
    "        test = test.tolist()\n",
    "        optimizer_value = keras.optimizers.Adam(learning_rate=0.01)\n",
    "        model.compile(loss='binary_crossentropy', optimizer=optimizer_value, metrics=['accuracy'])\n",
    "        # Fit the model\n",
    "        model.fit(X_train.iloc[train,:], y_train.iloc[train,:],batch_size = 200,epochs=50, verbose=0)\n",
    "        # Getting the Training scores\n",
    "        pred_train = model.predict_classes(X_train.iloc[train,:])\n",
    "        train_scores = f1_score(y_train.iloc[train,:],pred_train)\n",
    "        scores_train.append(train_scores)\n",
    "        # Evaluating the model\n",
    "        pred_test = model.predict_classes(X_train.iloc[test,:])\n",
    "        validation_scores = f1_score(y_train.iloc[test,:],pred_test)\n",
    "        scores_validation.append(validation_scores)\n",
    "    \n",
    "    print(layer,\"Training F1 Score: \" ,np.mean(scores_train),\"Validation F1 Score: \",np.mean(scores_validation))\n",
    "    \n",
    "    validation_values = [layer,np.mean(scores_validation)]\n",
    "    validation_values = pd.DataFrame(validation_values).T\n",
    "    df_layers_validation = pd.concat([df_layers_validation,validation_values])\n",
    "    \n",
    "    \n",
    "    train_values = [layer,np.mean(scores_train)]\n",
    "    train_values = pd.DataFrame(train_values).T\n",
    "    df_layers_train = pd.concat([df_layers_train,train_values])\n",
    "    \n",
    "\n",
    "    "
   ]
  },
  {
   "cell_type": "markdown",
   "metadata": {},
   "source": [
    "### Plots for Scores Vs Layers"
   ]
  },
  {
   "cell_type": "code",
   "execution_count": 156,
   "metadata": {},
   "outputs": [
    {
     "data": {
      "image/png": "[encoded data removed]",
      "text/plain": [
       "<Figure size 432x432 with 1 Axes>"
      ]
     },
     "metadata": {},
     "output_type": "display_data"
    }
   ],
   "source": [
    "df_layers_train.columns = ['Layer','F1 Score']\n",
    "df_layers_validation.columns = ['Layer','F1 Score']\n",
    "\n",
    "plt.figure(figsize=(6,6))\n",
    "plt.plot(df_layers_train['Layer'],df_layers_train['F1 Score'])\n",
    "plt.plot(df_layers_validation['Layer'],df_layers_validation['F1 Score'])\n",
    "plt.title(\"Layers Vs F1 Score\",fontsize=20)\n",
    "plt.xlabel(\"Layer\",fontsize=20)\n",
    "plt.ylabel(\"F1 Score\",fontsize=20)\n",
    "plt.legend(['Training','Validation'])\n",
    "plt.show()"
   ]
  },
  {
   "cell_type": "markdown",
   "metadata": {},
   "source": [
    "### Experimenting with Activation"
   ]
  },
  {
   "cell_type": "code",
   "execution_count": 126,
   "metadata": {},
   "outputs": [
    {
     "name": "stdout",
     "output_type": "stream",
     "text": [
      "sigmoid Training F1 Score:  0.6708105385764911 Validation F1 Score:  0.63767075770378\n",
      "relu Training F1 Score:  0.7132450483481547 Validation F1 Score:  0.6526830103619743\n",
      "tanh Training F1 Score:  0.749873217761867 Validation F1 Score:  0.6626542843021981\n"
     ]
    }
   ],
   "source": [
    "kfold = StratifiedKFold(n_splits=5, shuffle=True, random_state=10)\n",
    "y_train = pd.DataFrame(y_train)\n",
    "df_activation_train = pd.DataFrame()\n",
    "df_activation_validation = pd.DataFrame()\n",
    "activation_list = ['sigmoid','relu','tanh']\n",
    "\n",
    "for count in range(len(activation_list)):\n",
    "    scores_train = []\n",
    "    scores_validation = []\n",
    "    model = Sequential()\n",
    "    model.add(Dense(15, input_dim=29, activation=activation_list[count]))\n",
    "    model.add(Dense(22, activation=activation_list[count]))\n",
    "    model.add(Dense(29, activation=activation_list[count]))\n",
    "    model.add(Dense(1, activation='sigmoid'))\n",
    "    for train, test in kfold.split(X_train, y_train):\n",
    "        train = train.tolist()\n",
    "        test = test.tolist()\n",
    "        \n",
    "        optimizer_value = keras.optimizers.Adam(learning_rate=0.01)\n",
    "        model.compile(loss='binary_crossentropy', optimizer=optimizer_value, metrics=['accuracy'])\n",
    "        # Fit the model\n",
    "        model.fit(X_train.iloc[train,:], y_train.iloc[train,:],batch_size = 200,epochs=50, verbose=0)\n",
    "        # evaluate the model\n",
    "        pred_train = model.predict_classes(X_train.iloc[train,:])\n",
    "        train_scores = f1_score(y_train.iloc[train,:],pred_train)\n",
    "        scores_train.append(train_scores)\n",
    "        # Evaluating the model\n",
    "        pred_test = model.predict_classes(X_train.iloc[test,:])\n",
    "        validation_scores = f1_score(y_train.iloc[test,:],pred_test)\n",
    "        scores_validation.append(validation_scores)\n",
    "    \n",
    "    print(activation_list[count],\"Training F1 Score: \" ,np.mean(scores_train),\"Validation F1 Score: \",np.mean(scores_validation))\n",
    "    \n",
    "    validation_values = [activation_list[count],np.mean(scores_validation)]\n",
    "    validation_values = pd.DataFrame(validation_values).T\n",
    "    df_activation_validation = pd.concat([df_activation_validation,validation_values])\n",
    "    \n",
    "    \n",
    "    train_values = [activation_list[count],np.mean(scores_train)]\n",
    "    train_values = pd.DataFrame(train_values).T\n",
    "    df_activation_train = pd.concat([df_activation_train,train_values])\n",
    "    "
   ]
  },
  {
   "cell_type": "markdown",
   "metadata": {},
   "source": [
    "### Plot for F1 Score Vs Activation Functions"
   ]
  },
  {
   "cell_type": "code",
   "execution_count": 157,
   "metadata": {},
   "outputs": [
    {
     "data": {
      "image/png": "[encoded data removed]",
      "text/plain": [
       "<Figure size 432x432 with 1 Axes>"
      ]
     },
     "metadata": {},
     "output_type": "display_data"
    }
   ],
   "source": [
    "df_activation_train.columns = ['Activation','Train F1 Score']\n",
    "df_activation_validation.columns = ['Activation','Test F1 Score']\n",
    "df_merged = pd.merge(df_activation_train,df_activation_validation,how='inner',on='Activation')\n",
    "df_merged = df_merged.set_index('Activation') \n",
    "\n",
    "df_merged.plot.bar(figsize=(6,6))\n",
    "plt.legend(loc=\"lower right\")\n",
    "plt.title(\"F1 Score Vs Activation Fucntions\",fontsize=20)\n",
    "plt.ylabel(\"F1 Score\",fontsize=20)\n",
    "plt.xlabel(\"Activation Fucntion\",fontsize=20)\n",
    "plt.show()"
   ]
  },
  {
   "cell_type": "markdown",
   "metadata": {},
   "source": [
    "### Model implementation with the Optimal Parameters"
   ]
  },
  {
   "cell_type": "code",
   "execution_count": 144,
   "metadata": {},
   "outputs": [
    {
     "data": {
      "text/plain": [
       "0.5204991087344029"
      ]
     },
     "execution_count": 144,
     "metadata": {},
     "output_type": "execute_result"
    }
   ],
   "source": [
    "model = Sequential()\n",
    "model.add(Dense(15, input_dim=29, activation='sigmoid'))\n",
    "model.add(Dense(22, activation='sigmoid'))\n",
    "model.add(Dense(29, activation='sigmoid'))\n",
    "model.add(Dense(15, activation='sigmoid'))\n",
    "model.add(Dense(1, activation='sigmoid'))\n",
    "optimizer_value = keras.optimizers.Adam(learning_rate=0.01)\n",
    "model.compile(loss='binary_crossentropy', optimizer=optimizer_value)\n",
    "\n",
    "model.fit(X_train, y_train,batch_size = 200,epochs=50, verbose=0)\n",
    "train_scores = model.evaluate(X_train, y_train, verbose=0)\n",
    "\n",
    "pred_test = model.predict_classes(X_test)\n",
    "f1_score(y_test, pred_test)"
   ]
  },
  {
   "cell_type": "code",
   "execution_count": 145,
   "metadata": {},
   "outputs": [
    {
     "name": "stdout",
     "output_type": "stream",
     "text": [
      "              precision    recall  f1-score   support\n",
      "\n",
      "           0       0.86      0.87      0.87      7000\n",
      "           1       0.53      0.51      0.52      2000\n",
      "\n",
      "    accuracy                           0.79      9000\n",
      "   macro avg       0.70      0.69      0.69      9000\n",
      "weighted avg       0.79      0.79      0.79      9000\n",
      "\n"
     ]
    },
    {
     "data": {
      "text/html": [
       "<div>\n",
       "<style scoped>\n",
       "    .dataframe tbody tr th:only-of-type {\n",
       "        vertical-align: middle;\n",
       "    }\n",
       "\n",
       "    .dataframe tbody tr th {\n",
       "        vertical-align: top;\n",
       "    }\n",
       "\n",
       "    .dataframe thead th {\n",
       "        text-align: right;\n",
       "    }\n",
       "</style>\n",
       "<table border=\"1\" class=\"dataframe\">\n",
       "  <thead>\n",
       "    <tr style=\"text-align: right;\">\n",
       "      <th></th>\n",
       "      <th>Predicted 0</th>\n",
       "      <th>Predicted 1</th>\n",
       "    </tr>\n",
       "  </thead>\n",
       "  <tbody>\n",
       "    <tr>\n",
       "      <th>Actual 0</th>\n",
       "      <td>6095</td>\n",
       "      <td>905</td>\n",
       "    </tr>\n",
       "    <tr>\n",
       "      <th>Actual 1</th>\n",
       "      <td>978</td>\n",
       "      <td>1022</td>\n",
       "    </tr>\n",
       "  </tbody>\n",
       "</table>\n",
       "</div>"
      ],
      "text/plain": [
       "          Predicted 0  Predicted 1\n",
       "Actual 0         6095          905\n",
       "Actual 1          978         1022"
      ]
     },
     "execution_count": 145,
     "metadata": {},
     "output_type": "execute_result"
    }
   ],
   "source": [
    "print(classification_report(y_test,pred_test))\n",
    "pd.DataFrame(confusion_matrix(y_test,pred_test),index=['Actual 0','Actual 1'],columns=['Predicted 0','Predicted 1'])"
   ]
  },
  {
   "cell_type": "markdown",
   "metadata": {},
   "source": [
    "### K-Nearest Neighbors"
   ]
  },
  {
   "cell_type": "code",
   "execution_count": 159,
   "metadata": {},
   "outputs": [
    {
     "name": "stderr",
     "output_type": "stream",
     "text": [
      "C:\\Users\\aashe\\Anaconda3\\lib\\site-packages\\pandas\\core\\indexing.py:543: SettingWithCopyWarning: \n",
      "A value is trying to be set on a copy of a slice from a DataFrame.\n",
      "Try using .loc[row_indexer,col_indexer] = value instead\n",
      "\n",
      "See the caveats in the documentation: http://pandas.pydata.org/pandas-docs/stable/indexing.html#indexing-view-versus-copy\n",
      "  self.obj[item] = s\n"
     ]
    }
   ],
   "source": [
    "from imblearn.over_sampling import SMOTE\n",
    "df_knn = df.iloc[:,:21]\n",
    "\n",
    "x=df_knn.loc[:,df_knn.columns != 'default_class']\n",
    "x.iloc[:,0:20]=feature_scaling(x.iloc[:,0:20])\n",
    "y=df_knn['default_class']\n",
    "X_train, X_test, y_train, y_test = train_test_split(x, y, test_size=0.3,random_state=1)"
   ]
  },
  {
   "cell_type": "code",
   "execution_count": 160,
   "metadata": {},
   "outputs": [
    {
     "data": {
      "text/plain": [
       "0    16364\n",
       "1     4636\n",
       "Name: default_class, dtype: int64"
      ]
     },
     "execution_count": 160,
     "metadata": {},
     "output_type": "execute_result"
    }
   ],
   "source": [
    "y_train.value_counts()"
   ]
  },
  {
   "cell_type": "markdown",
   "metadata": {},
   "source": [
    "### SMOTE Sampling"
   ]
  },
  {
   "cell_type": "code",
   "execution_count": 161,
   "metadata": {},
   "outputs": [],
   "source": [
    "smt = SMOTE()\n",
    "X_train, y_train = smt.fit_sample(X_train, y_train)"
   ]
  },
  {
   "cell_type": "code",
   "execution_count": 162,
   "metadata": {},
   "outputs": [
    {
     "data": {
      "text/plain": [
       "array([16364, 16364], dtype=int64)"
      ]
     },
     "execution_count": 162,
     "metadata": {},
     "output_type": "execute_result"
    }
   ],
   "source": [
    "np.bincount(y_train)"
   ]
  },
  {
   "cell_type": "markdown",
   "metadata": {},
   "source": [
    "### Hyperparameter Tuning to find the Optimal Number of Neighbors"
   ]
  },
  {
   "cell_type": "code",
   "execution_count": 163,
   "metadata": {},
   "outputs": [],
   "source": [
    "from sklearn.model_selection import cross_val_score\n",
    "\n",
    "score_list = []\n",
    "for neighbor in range(1,30):\n",
    "    model = KNeighborsClassifier(n_neighbors=neighbor)\n",
    "    scores = cross_val_score(model, X_train, y_train, cv=3,scoring= 'f1')\n",
    "#     print(neighbor, scores.mean())\n",
    "    score_list.append(scores.mean())\n",
    "    \n",
    "neighbor_accuracy_df = pd.DataFrame({'F1 Score':score_list}) "
   ]
  },
  {
   "cell_type": "markdown",
   "metadata": {},
   "source": [
    "### Plot for F1 Score Vs Neighbors"
   ]
  },
  {
   "cell_type": "code",
   "execution_count": 164,
   "metadata": {},
   "outputs": [
    {
     "data": {
      "image/png": "[encoded data removed]",
      "text/plain": [
       "<Figure size 432x432 with 1 Axes>"
      ]
     },
     "metadata": {},
     "output_type": "display_data"
    }
   ],
   "source": [
    "plt.figure(figsize=(6,6))\n",
    "plt.plot(neighbor_accuracy_df)\n",
    "plt.title(\"F1 Score Vs Number of Nearest Neighbors\",fontsize=15)\n",
    "plt.xlabel(\"Number of neighbors\",fontsize=20)\n",
    "plt.ylabel(\"F1 Score\",fontsize=20)\n",
    "plt.show()"
   ]
  },
  {
   "cell_type": "markdown",
   "metadata": {},
   "source": [
    "### Hyperparameter Tuning to find the Best Distance Metric"
   ]
  },
  {
   "cell_type": "code",
   "execution_count": 82,
   "metadata": {},
   "outputs": [],
   "source": [
    "from sklearn.model_selection import cross_val_score\n",
    "\n",
    "# neighbors = [1,2,3,4,5,6,7,8]\n",
    "distance_neighbor_df = pd.DataFrame()\n",
    "distance_metrics_list = ['chebyshev','minkowski','manhattan']\n",
    "for distance_metric in distance_metrics_list:\n",
    "    for neighbor in range(1,6):\n",
    "        model = KNeighborsClassifier(n_neighbors=neighbor,metric = distance_metric)\n",
    "        scores = cross_val_score(model, X_train, y_train, cv=3,scoring='f1')\n",
    "#     print(neighbor, scores.mean())                          \n",
    "        values  =  [distance_metric,neighbor,scores.mean()]\n",
    "        values = pd.DataFrame(values).T\n",
    "        distance_neighbor_df = pd.concat([distance_neighbor_df,values])\n",
    "\n",
    "distance_neighbor_df.columns = ['Distance Metric','Neighbor','Accuracy']\n",
    "distance_neighbor_df['Neighbor'] = distance_neighbor_df['Neighbor'].astype(float)\n",
    "distance_neighbor_df['Accuracy'] = distance_neighbor_df['Accuracy'].astype(float)"
   ]
  },
  {
   "cell_type": "markdown",
   "metadata": {},
   "source": [
    "### F1 Score Vs (Distance Metric and Neighbors)"
   ]
  },
  {
   "cell_type": "code",
   "execution_count": 83,
   "metadata": {},
   "outputs": [
    {
     "data": {
      "image/png": "[encoded data removed]",
      "text/plain": [
       "<Figure size 410.4x379.44 with 1 Axes>"
      ]
     },
     "metadata": {},
     "output_type": "display_data"
    }
   ],
   "source": [
    "import seaborn as sns\n",
    "flatui = [\"#9b59b6\", \"#3498db\", \"#95a5a6\"]\n",
    "sns.set(rc={'figure.figsize':(5.7,5.27)})\n",
    "sns.lineplot(data=distance_neighbor_df, x='Neighbor', y='Accuracy',hue='Distance Metric',palette=flatui)\n",
    "plt.xlabel(\"Neighbor\",fontsize=20)\n",
    "plt.ylabel(\"F1 Score\",fontsize=20)\n",
    "plt.title(\"Neighbor vs (F1 Score and Distance Metric)\",fontsize=15)\n",
    "plt.show()"
   ]
  },
  {
   "cell_type": "markdown",
   "metadata": {},
   "source": [
    "### Learning Curve with Train Size Vs F1 Score"
   ]
  },
  {
   "cell_type": "code",
   "execution_count": 167,
   "metadata": {},
   "outputs": [
    {
     "data": {
      "image/png": "[encoded data removed]",
      "text/plain": [
       "<Figure size 432x432 with 1 Axes>"
      ]
     },
     "metadata": {},
     "output_type": "display_data"
    }
   ],
   "source": [
    "train_sizes, train_scores, valid_scores = learning_curve(KNeighborsClassifier(n_neighbors=3,metric = 'manhattan'), \n",
    "    X_train, y_train,train_sizes=[0.2,0.4,0.6,0.8,1],cv=5,random_state=1,shuffle=True)\n",
    "\n",
    "train_mean = train_scores.mean(axis=1)\n",
    "valid_mean = valid_scores.mean(axis=1)\n",
    "\n",
    "plt.figure(figsize=(6,6))\n",
    "plt.plot(train_sizes, train_mean, label = 'Training F1 Score')\n",
    "plt.plot(train_sizes, valid_mean, label = 'Validation F1 Score')\n",
    "plt.xlabel(\"Train sizes\",fontsize=20)\n",
    "plt.ylabel(\"F1 Score\",fontsize=20)\n",
    "plt.title(\"Train Size vs F1 Score\",fontsize=20)\n",
    "plt.legend(loc=\"lower right\")\n",
    "plt.show()"
   ]
  },
  {
   "cell_type": "markdown",
   "metadata": {},
   "source": [
    "### Model Implementation with the Best Parameters"
   ]
  },
  {
   "cell_type": "code",
   "execution_count": 176,
   "metadata": {},
   "outputs": [
    {
     "name": "stdout",
     "output_type": "stream",
     "text": [
      "0.9127173542448006\n"
     ]
    },
    {
     "data": {
      "text/plain": [
       "0.44146246596655"
      ]
     },
     "execution_count": 176,
     "metadata": {},
     "output_type": "execute_result"
    }
   ],
   "source": [
    "model = KNeighborsClassifier(n_neighbors=3)\n",
    "model.fit(X_train,y_train)\n",
    "pred_train = model.predict(X_train)\n",
    "pred_test = model.predict(X_test)\n",
    "print(f1_score(y_train,pred_train))\n",
    "f1_score(y_test,pred_test)"
   ]
  },
  {
   "cell_type": "code",
   "execution_count": 177,
   "metadata": {},
   "outputs": [
    {
     "name": "stdout",
     "output_type": "stream",
     "text": [
      "              precision    recall  f1-score   support\n",
      "\n",
      "           0       0.85      0.71      0.78      7000\n",
      "           1       0.36      0.57      0.44      2000\n",
      "\n",
      "    accuracy                           0.68      9000\n",
      "   macro avg       0.61      0.64      0.61      9000\n",
      "weighted avg       0.74      0.68      0.70      9000\n",
      "\n"
     ]
    },
    {
     "data": {
      "text/html": [
       "<div>\n",
       "<style scoped>\n",
       "    .dataframe tbody tr th:only-of-type {\n",
       "        vertical-align: middle;\n",
       "    }\n",
       "\n",
       "    .dataframe tbody tr th {\n",
       "        vertical-align: top;\n",
       "    }\n",
       "\n",
       "    .dataframe thead th {\n",
       "        text-align: right;\n",
       "    }\n",
       "</style>\n",
       "<table border=\"1\" class=\"dataframe\">\n",
       "  <thead>\n",
       "    <tr style=\"text-align: right;\">\n",
       "      <th></th>\n",
       "      <th>Predicted 0</th>\n",
       "      <th>Predicted 1</th>\n",
       "    </tr>\n",
       "  </thead>\n",
       "  <tbody>\n",
       "    <tr>\n",
       "      <th>Actual 0</th>\n",
       "      <td>4993</td>\n",
       "      <td>2007</td>\n",
       "    </tr>\n",
       "    <tr>\n",
       "      <th>Actual 1</th>\n",
       "      <td>865</td>\n",
       "      <td>1135</td>\n",
       "    </tr>\n",
       "  </tbody>\n",
       "</table>\n",
       "</div>"
      ],
      "text/plain": [
       "          Predicted 0  Predicted 1\n",
       "Actual 0         4993         2007\n",
       "Actual 1          865         1135"
      ]
     },
     "execution_count": 177,
     "metadata": {},
     "output_type": "execute_result"
    }
   ],
   "source": [
    "print(classification_report(y_test,pred_test))\n",
    "pd.DataFrame(confusion_matrix(y_test,pred_test),index=['Actual 0','Actual 1'],columns=['Predicted 0','Predicted 1'])"
   ]
  },
  {
   "cell_type": "code",
   "execution_count": null,
   "metadata": {},
   "outputs": [],
   "source": []
  }
 ],
 "metadata": {
  "kernelspec": {
   "display_name": "Python 3",
   "language": "python",
   "name": "python3"
  },
  "language_info": {
   "codemirror_mode": {
    "name": "ipython",
    "version": 3
   },
   "file_extension": ".py",
   "mimetype": "text/x-python",
   "name": "python",
   "nbconvert_exporter": "python",
   "pygments_lexer": "ipython3",
   "version": "3.6.9"
  }
 },
 "nbformat": 4,
 "nbformat_minor": 2
}
