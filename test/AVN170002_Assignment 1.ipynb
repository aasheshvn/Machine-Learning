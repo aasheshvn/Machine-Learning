{
 "cells": [
  {
   "cell_type": "code",
   "execution_count": 838,
   "metadata": {},
   "outputs": [],
   "source": [
    "import pandas as pd\n",
    "import matplotlib.pyplot as plt\n",
    "import numpy as np\n",
    "import seaborn as sns\n",
    "from sklearn.linear_model import LinearRegression\n",
    "from sklearn.linear_model import SGDClassifier\n",
    "import datetime\n",
    "from sklearn.preprocessing import StandardScaler\n",
    "from sklearn.model_selection import train_test_split\n",
    "from sklearn.linear_model import LogisticRegression\n",
    "from sklearn import metrics\n",
    "from sklearn.metrics import confusion_matrix\n",
    "import math\n",
    "from sklearn.metrics import accuracy_score"
   ]
  },
  {
   "cell_type": "code",
   "execution_count": 1022,
   "metadata": {},
   "outputs": [],
   "source": [
    "###Importing the dataset\n",
    "\n",
    "df=pd.read_csv(\"energydata_complete.csv\")"
   ]
  },
  {
   "cell_type": "markdown",
   "metadata": {},
   "source": [
    "### Descriptive Statistics"
   ]
  },
  {
   "cell_type": "code",
   "execution_count": 938,
   "metadata": {},
   "outputs": [
    {
     "data": {
      "text/plain": [
       "(19735, 29)"
      ]
     },
     "execution_count": 938,
     "metadata": {},
     "output_type": "execute_result"
    }
   ],
   "source": [
    "df.shape"
   ]
  },
  {
   "cell_type": "code",
   "execution_count": 4,
   "metadata": {},
   "outputs": [
    {
     "data": {
      "text/html": [
       "<div>\n",
       "<style scoped>\n",
       "    .dataframe tbody tr th:only-of-type {\n",
       "        vertical-align: middle;\n",
       "    }\n",
       "\n",
       "    .dataframe tbody tr th {\n",
       "        vertical-align: top;\n",
       "    }\n",
       "\n",
       "    .dataframe thead th {\n",
       "        text-align: right;\n",
       "    }\n",
       "</style>\n",
       "<table border=\"1\" class=\"dataframe\">\n",
       "  <thead>\n",
       "    <tr style=\"text-align: right;\">\n",
       "      <th></th>\n",
       "      <th>Appliances</th>\n",
       "      <th>lights</th>\n",
       "      <th>T1</th>\n",
       "      <th>RH_1</th>\n",
       "      <th>T2</th>\n",
       "      <th>RH_2</th>\n",
       "      <th>T3</th>\n",
       "      <th>RH_3</th>\n",
       "      <th>T4</th>\n",
       "      <th>RH_4</th>\n",
       "      <th>...</th>\n",
       "      <th>T9</th>\n",
       "      <th>RH_9</th>\n",
       "      <th>T_out</th>\n",
       "      <th>Press_mm_hg</th>\n",
       "      <th>RH_out</th>\n",
       "      <th>Windspeed</th>\n",
       "      <th>Visibility</th>\n",
       "      <th>Tdewpoint</th>\n",
       "      <th>rv1</th>\n",
       "      <th>rv2</th>\n",
       "    </tr>\n",
       "  </thead>\n",
       "  <tbody>\n",
       "    <tr>\n",
       "      <th>count</th>\n",
       "      <td>19735.000000</td>\n",
       "      <td>19735.000000</td>\n",
       "      <td>19735.000000</td>\n",
       "      <td>19735.000000</td>\n",
       "      <td>19735.000000</td>\n",
       "      <td>19735.000000</td>\n",
       "      <td>19735.000000</td>\n",
       "      <td>19735.000000</td>\n",
       "      <td>19735.000000</td>\n",
       "      <td>19735.000000</td>\n",
       "      <td>...</td>\n",
       "      <td>19735.000000</td>\n",
       "      <td>19735.000000</td>\n",
       "      <td>19735.000000</td>\n",
       "      <td>19735.000000</td>\n",
       "      <td>19735.000000</td>\n",
       "      <td>19735.000000</td>\n",
       "      <td>19735.000000</td>\n",
       "      <td>19735.000000</td>\n",
       "      <td>19735.000000</td>\n",
       "      <td>19735.000000</td>\n",
       "    </tr>\n",
       "    <tr>\n",
       "      <th>mean</th>\n",
       "      <td>97.694958</td>\n",
       "      <td>3.801875</td>\n",
       "      <td>21.686571</td>\n",
       "      <td>40.259739</td>\n",
       "      <td>20.341219</td>\n",
       "      <td>40.420420</td>\n",
       "      <td>22.267611</td>\n",
       "      <td>39.242500</td>\n",
       "      <td>20.855335</td>\n",
       "      <td>39.026904</td>\n",
       "      <td>...</td>\n",
       "      <td>19.485828</td>\n",
       "      <td>41.552401</td>\n",
       "      <td>7.411665</td>\n",
       "      <td>755.522602</td>\n",
       "      <td>79.750418</td>\n",
       "      <td>4.039752</td>\n",
       "      <td>38.330834</td>\n",
       "      <td>3.760707</td>\n",
       "      <td>24.988033</td>\n",
       "      <td>24.988033</td>\n",
       "    </tr>\n",
       "    <tr>\n",
       "      <th>std</th>\n",
       "      <td>102.524891</td>\n",
       "      <td>7.935988</td>\n",
       "      <td>1.606066</td>\n",
       "      <td>3.979299</td>\n",
       "      <td>2.192974</td>\n",
       "      <td>4.069813</td>\n",
       "      <td>2.006111</td>\n",
       "      <td>3.254576</td>\n",
       "      <td>2.042884</td>\n",
       "      <td>4.341321</td>\n",
       "      <td>...</td>\n",
       "      <td>2.014712</td>\n",
       "      <td>4.151497</td>\n",
       "      <td>5.317409</td>\n",
       "      <td>7.399441</td>\n",
       "      <td>14.901088</td>\n",
       "      <td>2.451221</td>\n",
       "      <td>11.794719</td>\n",
       "      <td>4.194648</td>\n",
       "      <td>14.496634</td>\n",
       "      <td>14.496634</td>\n",
       "    </tr>\n",
       "    <tr>\n",
       "      <th>min</th>\n",
       "      <td>10.000000</td>\n",
       "      <td>0.000000</td>\n",
       "      <td>16.790000</td>\n",
       "      <td>27.023333</td>\n",
       "      <td>16.100000</td>\n",
       "      <td>20.463333</td>\n",
       "      <td>17.200000</td>\n",
       "      <td>28.766667</td>\n",
       "      <td>15.100000</td>\n",
       "      <td>27.660000</td>\n",
       "      <td>...</td>\n",
       "      <td>14.890000</td>\n",
       "      <td>29.166667</td>\n",
       "      <td>-5.000000</td>\n",
       "      <td>729.300000</td>\n",
       "      <td>24.000000</td>\n",
       "      <td>0.000000</td>\n",
       "      <td>1.000000</td>\n",
       "      <td>-6.600000</td>\n",
       "      <td>0.005322</td>\n",
       "      <td>0.005322</td>\n",
       "    </tr>\n",
       "    <tr>\n",
       "      <th>25%</th>\n",
       "      <td>50.000000</td>\n",
       "      <td>0.000000</td>\n",
       "      <td>20.760000</td>\n",
       "      <td>37.333333</td>\n",
       "      <td>18.790000</td>\n",
       "      <td>37.900000</td>\n",
       "      <td>20.790000</td>\n",
       "      <td>36.900000</td>\n",
       "      <td>19.530000</td>\n",
       "      <td>35.530000</td>\n",
       "      <td>...</td>\n",
       "      <td>18.000000</td>\n",
       "      <td>38.500000</td>\n",
       "      <td>3.666667</td>\n",
       "      <td>750.933333</td>\n",
       "      <td>70.333333</td>\n",
       "      <td>2.000000</td>\n",
       "      <td>29.000000</td>\n",
       "      <td>0.900000</td>\n",
       "      <td>12.497889</td>\n",
       "      <td>12.497889</td>\n",
       "    </tr>\n",
       "    <tr>\n",
       "      <th>50%</th>\n",
       "      <td>60.000000</td>\n",
       "      <td>0.000000</td>\n",
       "      <td>21.600000</td>\n",
       "      <td>39.656667</td>\n",
       "      <td>20.000000</td>\n",
       "      <td>40.500000</td>\n",
       "      <td>22.100000</td>\n",
       "      <td>38.530000</td>\n",
       "      <td>20.666667</td>\n",
       "      <td>38.400000</td>\n",
       "      <td>...</td>\n",
       "      <td>19.390000</td>\n",
       "      <td>40.900000</td>\n",
       "      <td>6.916667</td>\n",
       "      <td>756.100000</td>\n",
       "      <td>83.666667</td>\n",
       "      <td>3.666667</td>\n",
       "      <td>40.000000</td>\n",
       "      <td>3.433333</td>\n",
       "      <td>24.897653</td>\n",
       "      <td>24.897653</td>\n",
       "    </tr>\n",
       "    <tr>\n",
       "      <th>75%</th>\n",
       "      <td>100.000000</td>\n",
       "      <td>0.000000</td>\n",
       "      <td>22.600000</td>\n",
       "      <td>43.066667</td>\n",
       "      <td>21.500000</td>\n",
       "      <td>43.260000</td>\n",
       "      <td>23.290000</td>\n",
       "      <td>41.760000</td>\n",
       "      <td>22.100000</td>\n",
       "      <td>42.156667</td>\n",
       "      <td>...</td>\n",
       "      <td>20.600000</td>\n",
       "      <td>44.338095</td>\n",
       "      <td>10.408333</td>\n",
       "      <td>760.933333</td>\n",
       "      <td>91.666667</td>\n",
       "      <td>5.500000</td>\n",
       "      <td>40.000000</td>\n",
       "      <td>6.566667</td>\n",
       "      <td>37.583769</td>\n",
       "      <td>37.583769</td>\n",
       "    </tr>\n",
       "    <tr>\n",
       "      <th>max</th>\n",
       "      <td>1080.000000</td>\n",
       "      <td>70.000000</td>\n",
       "      <td>26.260000</td>\n",
       "      <td>63.360000</td>\n",
       "      <td>29.856667</td>\n",
       "      <td>56.026667</td>\n",
       "      <td>29.236000</td>\n",
       "      <td>50.163333</td>\n",
       "      <td>26.200000</td>\n",
       "      <td>51.090000</td>\n",
       "      <td>...</td>\n",
       "      <td>24.500000</td>\n",
       "      <td>53.326667</td>\n",
       "      <td>26.100000</td>\n",
       "      <td>772.300000</td>\n",
       "      <td>100.000000</td>\n",
       "      <td>14.000000</td>\n",
       "      <td>66.000000</td>\n",
       "      <td>15.500000</td>\n",
       "      <td>49.996530</td>\n",
       "      <td>49.996530</td>\n",
       "    </tr>\n",
       "  </tbody>\n",
       "</table>\n",
       "<p>8 rows × 28 columns</p>\n",
       "</div>"
      ],
      "text/plain": [
       "         Appliances        lights            T1          RH_1            T2  \\\n",
       "count  19735.000000  19735.000000  19735.000000  19735.000000  19735.000000   \n",
       "mean      97.694958      3.801875     21.686571     40.259739     20.341219   \n",
       "std      102.524891      7.935988      1.606066      3.979299      2.192974   \n",
       "min       10.000000      0.000000     16.790000     27.023333     16.100000   \n",
       "25%       50.000000      0.000000     20.760000     37.333333     18.790000   \n",
       "50%       60.000000      0.000000     21.600000     39.656667     20.000000   \n",
       "75%      100.000000      0.000000     22.600000     43.066667     21.500000   \n",
       "max     1080.000000     70.000000     26.260000     63.360000     29.856667   \n",
       "\n",
       "               RH_2            T3          RH_3            T4          RH_4  \\\n",
       "count  19735.000000  19735.000000  19735.000000  19735.000000  19735.000000   \n",
       "mean      40.420420     22.267611     39.242500     20.855335     39.026904   \n",
       "std        4.069813      2.006111      3.254576      2.042884      4.341321   \n",
       "min       20.463333     17.200000     28.766667     15.100000     27.660000   \n",
       "25%       37.900000     20.790000     36.900000     19.530000     35.530000   \n",
       "50%       40.500000     22.100000     38.530000     20.666667     38.400000   \n",
       "75%       43.260000     23.290000     41.760000     22.100000     42.156667   \n",
       "max       56.026667     29.236000     50.163333     26.200000     51.090000   \n",
       "\n",
       "           ...                 T9          RH_9         T_out   Press_mm_hg  \\\n",
       "count      ...       19735.000000  19735.000000  19735.000000  19735.000000   \n",
       "mean       ...          19.485828     41.552401      7.411665    755.522602   \n",
       "std        ...           2.014712      4.151497      5.317409      7.399441   \n",
       "min        ...          14.890000     29.166667     -5.000000    729.300000   \n",
       "25%        ...          18.000000     38.500000      3.666667    750.933333   \n",
       "50%        ...          19.390000     40.900000      6.916667    756.100000   \n",
       "75%        ...          20.600000     44.338095     10.408333    760.933333   \n",
       "max        ...          24.500000     53.326667     26.100000    772.300000   \n",
       "\n",
       "             RH_out     Windspeed    Visibility     Tdewpoint           rv1  \\\n",
       "count  19735.000000  19735.000000  19735.000000  19735.000000  19735.000000   \n",
       "mean      79.750418      4.039752     38.330834      3.760707     24.988033   \n",
       "std       14.901088      2.451221     11.794719      4.194648     14.496634   \n",
       "min       24.000000      0.000000      1.000000     -6.600000      0.005322   \n",
       "25%       70.333333      2.000000     29.000000      0.900000     12.497889   \n",
       "50%       83.666667      3.666667     40.000000      3.433333     24.897653   \n",
       "75%       91.666667      5.500000     40.000000      6.566667     37.583769   \n",
       "max      100.000000     14.000000     66.000000     15.500000     49.996530   \n",
       "\n",
       "                rv2  \n",
       "count  19735.000000  \n",
       "mean      24.988033  \n",
       "std       14.496634  \n",
       "min        0.005322  \n",
       "25%       12.497889  \n",
       "50%       24.897653  \n",
       "75%       37.583769  \n",
       "max       49.996530  \n",
       "\n",
       "[8 rows x 28 columns]"
      ]
     },
     "execution_count": 4,
     "metadata": {},
     "output_type": "execute_result"
    }
   ],
   "source": [
    "df.describe()"
   ]
  },
  {
   "cell_type": "code",
   "execution_count": 5,
   "metadata": {},
   "outputs": [
    {
     "name": "stdout",
     "output_type": "stream",
     "text": [
      "<class 'pandas.core.frame.DataFrame'>\n",
      "RangeIndex: 19735 entries, 0 to 19734\n",
      "Data columns (total 29 columns):\n",
      "date           19735 non-null object\n",
      "Appliances     19735 non-null int64\n",
      "lights         19735 non-null int64\n",
      "T1             19735 non-null float64\n",
      "RH_1           19735 non-null float64\n",
      "T2             19735 non-null float64\n",
      "RH_2           19735 non-null float64\n",
      "T3             19735 non-null float64\n",
      "RH_3           19735 non-null float64\n",
      "T4             19735 non-null float64\n",
      "RH_4           19735 non-null float64\n",
      "T5             19735 non-null float64\n",
      "RH_5           19735 non-null float64\n",
      "T6             19735 non-null float64\n",
      "RH_6           19735 non-null float64\n",
      "T7             19735 non-null float64\n",
      "RH_7           19735 non-null float64\n",
      "T8             19735 non-null float64\n",
      "RH_8           19735 non-null float64\n",
      "T9             19735 non-null float64\n",
      "RH_9           19735 non-null float64\n",
      "T_out          19735 non-null float64\n",
      "Press_mm_hg    19735 non-null float64\n",
      "RH_out         19735 non-null float64\n",
      "Windspeed      19735 non-null float64\n",
      "Visibility     19735 non-null float64\n",
      "Tdewpoint      19735 non-null float64\n",
      "rv1            19735 non-null float64\n",
      "rv2            19735 non-null float64\n",
      "dtypes: float64(26), int64(2), object(1)\n",
      "memory usage: 4.3+ MB\n"
     ]
    }
   ],
   "source": [
    "df.info()"
   ]
  },
  {
   "cell_type": "code",
   "execution_count": 243,
   "metadata": {},
   "outputs": [
    {
     "data": {
      "text/html": [
       "<div>\n",
       "<style scoped>\n",
       "    .dataframe tbody tr th:only-of-type {\n",
       "        vertical-align: middle;\n",
       "    }\n",
       "\n",
       "    .dataframe tbody tr th {\n",
       "        vertical-align: top;\n",
       "    }\n",
       "\n",
       "    .dataframe thead th {\n",
       "        text-align: right;\n",
       "    }\n",
       "</style>\n",
       "<table border=\"1\" class=\"dataframe\">\n",
       "  <thead>\n",
       "    <tr style=\"text-align: right;\">\n",
       "      <th></th>\n",
       "      <th>0</th>\n",
       "      <th>10</th>\n",
       "      <th>20</th>\n",
       "      <th>30</th>\n",
       "      <th>40</th>\n",
       "      <th>50</th>\n",
       "      <th>60</th>\n",
       "      <th>70</th>\n",
       "    </tr>\n",
       "  </thead>\n",
       "  <tbody>\n",
       "    <tr>\n",
       "      <th>lights</th>\n",
       "      <td>15252</td>\n",
       "      <td>2212</td>\n",
       "      <td>1624</td>\n",
       "      <td>559</td>\n",
       "      <td>77</td>\n",
       "      <td>9</td>\n",
       "      <td>1</td>\n",
       "      <td>1</td>\n",
       "    </tr>\n",
       "  </tbody>\n",
       "</table>\n",
       "</div>"
      ],
      "text/plain": [
       "           0     10    20   30  40  50  60  70\n",
       "lights  15252  2212  1624  559  77   9   1   1"
      ]
     },
     "execution_count": 243,
     "metadata": {},
     "output_type": "execute_result"
    }
   ],
   "source": [
    "pd.DataFrame(df['lights'].value_counts()).T"
   ]
  },
  {
   "cell_type": "code",
   "execution_count": null,
   "metadata": {},
   "outputs": [],
   "source": [
    "df.corr()"
   ]
  },
  {
   "cell_type": "code",
   "execution_count": 181,
   "metadata": {},
   "outputs": [
    {
     "data": {
      "text/plain": [
       "0.7728401317456296"
      ]
     },
     "execution_count": 181,
     "metadata": {},
     "output_type": "execute_result"
    }
   ],
   "source": [
    "15252/19735"
   ]
  },
  {
   "cell_type": "markdown",
   "metadata": {},
   "source": [
    "### Checking for columns with high correlation"
   ]
  },
  {
   "cell_type": "code",
   "execution_count": 1138,
   "metadata": {},
   "outputs": [
    {
     "name": "stdout",
     "output_type": "stream",
     "text": [
      "Features with high correlation >0.88\n",
      "\n",
      "Feature1\tFeature2\tCorrelation\n",
      "T3 \t\t T1 \t\t 0.892\n",
      "RH_4 \t\t RH_1 \t\t 0.88\n",
      "RH_4 \t\t RH_3 \t\t 0.899\n",
      "T5 \t\t T1 \t\t 0.885\n",
      "T5 \t\t T3 \t\t 0.888\n",
      "RH_7 \t\t RH_4 \t\t 0.894\n",
      "T8 \t\t T7 \t\t 0.882\n",
      "RH_8 \t\t RH_7 \t\t 0.884\n",
      "T9 \t\t T3 \t\t 0.901\n",
      "T9 \t\t T4 \t\t 0.889\n",
      "T9 \t\t T5 \t\t 0.911\n",
      "T9 \t\t T7 \t\t 0.945\n",
      "T_out \t\t T6 \t\t 0.975\n",
      "rv2 \t\t rv1 \t\t 1.0\n"
     ]
    }
   ],
   "source": [
    "corr=df.corr()\n",
    "print(\"Features with high correlation >0.88\\n\")\n",
    "print(\"Feature1\\tFeature2\\tCorrelation\")\n",
    "\n",
    "for i in range(len(corr.columns)):\n",
    "    #print(\"i= \", i)\n",
    "    for j in range(i):\n",
    "        #print(\"j= \", j)\n",
    "        if(corr.iloc[i,j]>0.88):\n",
    "            print(corr.columns[i],\"\\t\\t\",corr.columns[j],\"\\t\\t\", round(corr.iloc[i,j],3))\n",
    "            "
   ]
  },
  {
   "cell_type": "markdown",
   "metadata": {},
   "source": [
    "### Dropping the columns"
   ]
  },
  {
   "cell_type": "code",
   "execution_count": 310,
   "metadata": {},
   "outputs": [],
   "source": [
    "df_filter=df.drop(columns =['date','lights','T3','T_out','rv1','rv2','RH_4','T4','T7','RH_7','T5'])"
   ]
  },
  {
   "cell_type": "code",
   "execution_count": 311,
   "metadata": {},
   "outputs": [
    {
     "data": {
      "text/plain": [
       "(19735, 18)"
      ]
     },
     "execution_count": 311,
     "metadata": {},
     "output_type": "execute_result"
    }
   ],
   "source": [
    "df_filter.shape"
   ]
  },
  {
   "cell_type": "markdown",
   "metadata": {},
   "source": [
    "### Outliers detection and removal"
   ]
  },
  {
   "cell_type": "code",
   "execution_count": 312,
   "metadata": {},
   "outputs": [
    {
     "data": {
      "image/png": "[encoded data removed]",
      "text/plain": [
       "<Figure size 432x288 with 1 Axes>"
      ]
     },
     "metadata": {
      "needs_background": "light"
     },
     "output_type": "display_data"
    }
   ],
   "source": [
    "### For Appliances\n",
    "plt.boxplot(df_filter['Appliances'])\n",
    "plt.title(\"\\nOutliers in Energy Usage\\n\")\n",
    "plt.xlabel(\"Appliances\")\n",
    "plt.ylabel(\"Energy Usage\")\n",
    "plt.show()"
   ]
  },
  {
   "cell_type": "code",
   "execution_count": 313,
   "metadata": {},
   "outputs": [
    {
     "data": {
      "text/plain": [
       "count    19735.000000\n",
       "mean        97.694958\n",
       "std        102.524891\n",
       "min         10.000000\n",
       "25%         50.000000\n",
       "50%         60.000000\n",
       "75%        100.000000\n",
       "max       1080.000000\n",
       "Name: Appliances, dtype: float64"
      ]
     },
     "execution_count": 313,
     "metadata": {},
     "output_type": "execute_result"
    }
   ],
   "source": [
    "df['Appliances'].describe()"
   ]
  },
  {
   "cell_type": "code",
   "execution_count": 314,
   "metadata": {},
   "outputs": [
    {
     "data": {
      "image/png": "[encoded data removed]",
      "text/plain": [
       "<Figure size 432x288 with 1 Axes>"
      ]
     },
     "metadata": {
      "needs_background": "light"
     },
     "output_type": "display_data"
    }
   ],
   "source": [
    "plt.hist(df_filter['Appliances'])\n",
    "plt.title(\"\\nHistogram for Energy Usage\\n\")\n",
    "plt.xlabel(\"Energy Usage\")\n",
    "plt.ylabel(\"Count\")\n",
    "plt.show()"
   ]
  },
  {
   "cell_type": "code",
   "execution_count": 315,
   "metadata": {},
   "outputs": [
    {
     "data": {
      "text/plain": [
       "(2138, 18)"
      ]
     },
     "execution_count": 315,
     "metadata": {},
     "output_type": "execute_result"
    }
   ],
   "source": [
    "df_filter[df_filter['Appliances']>175].shape"
   ]
  },
  {
   "cell_type": "code",
   "execution_count": 316,
   "metadata": {},
   "outputs": [
    {
     "data": {
      "text/plain": [
       "0.10833544464149987"
      ]
     },
     "execution_count": 316,
     "metadata": {},
     "output_type": "execute_result"
    }
   ],
   "source": [
    "2138/19735"
   ]
  },
  {
   "cell_type": "code",
   "execution_count": 317,
   "metadata": {},
   "outputs": [],
   "source": [
    "def outlier(df_with_outliers):\n",
    "    df_no_outliers = df_with_outliers[df_with_outliers['Appliances']<175]\n",
    "    return(df_no_outliers)"
   ]
  },
  {
   "cell_type": "markdown",
   "metadata": {},
   "source": [
    "### Feature Scaling"
   ]
  },
  {
   "cell_type": "code",
   "execution_count": 318,
   "metadata": {},
   "outputs": [],
   "source": [
    "def feature_scaling(df_unscaled):\n",
    "    scaler = StandardScaler()\n",
    "    scaled_data = scaler.fit_transform(df_unscaled)\n",
    "    scaled_data = pd.DataFrame(scaled_data, columns = df_unscaled.columns)\n",
    "    return(scaled_data)"
   ]
  },
  {
   "cell_type": "markdown",
   "metadata": {},
   "source": [
    "### Accuracy Metrics Calculation"
   ]
  },
  {
   "cell_type": "code",
   "execution_count": 319,
   "metadata": {},
   "outputs": [],
   "source": [
    "def calculate_metrics(actual,predicted,rows):\n",
    "    cf=round((((predicted-actual)**2).sum())/(2*rows),4)   ### Cost\n",
    "    mse = round((np.mean((actual - predicted)**2)),4)  ### Mean Squared Error\n",
    "    mae = round((np.mean(abs(actual - predicted))),4)       ### Mean Absolute Error\n",
    "    \n",
    "    actual_mean = actual.mean()\n",
    "    tss = np.sum((actual - actual_mean)**2)\n",
    "    rss = np.sum((actual - predicted)**2)\n",
    "    \n",
    "    r_squared = round((1 - (rss/tss)),4)         ### R Squared\n",
    "    \n",
    "    return (cf,mse,mae,r_squared)"
   ]
  },
  {
   "cell_type": "markdown",
   "metadata": {},
   "source": [
    "### Gradient Descent for Linear Regression"
   ]
  },
  {
   "cell_type": "code",
   "execution_count": 934,
   "metadata": {},
   "outputs": [],
   "source": [
    "###Initialisations\n",
    "\n",
    "def GD_Linear(X_train, X_test, y_train, y_test,exp):\n",
    "    if exp == 1:\n",
    "        lrate=[0.005,0.007,0.01]  ###Learning Rates with increasing step sizes\n",
    "        threshold=[0.1]\n",
    "        iterations=1000\n",
    "    if exp == 2:\n",
    "        lrate=[0.01]  ###Learning Rates with increasing step sizes\n",
    "        threshold=[0.005,0.01,0.1]\n",
    "        iterations=2000\n",
    "    if exp == 3 or exp == 4:\n",
    "        lrate=[0.01]\n",
    "        threshold=[0.1]\n",
    "        iterations=1000\n",
    "    beta_dict=dict()\n",
    "    cf_dict=dict()\n",
    "    mse_train=dict()\n",
    "    mae_train=dict()\n",
    "    r_squared=dict()\n",
    "    ####\n",
    "\n",
    "    rows=X_train.shape[0]\n",
    "    n=X_train.shape[1]+1\n",
    "    xt=X_train.values.transpose()\n",
    "\n",
    "    for alpha in lrate:\n",
    "        for t in threshold:\n",
    "            p_diff_cost=[0]*n\n",
    "            beta=[0.5]*n\n",
    "            cf=[0]*iterations\n",
    "            mse=[0]*iterations\n",
    "            mae=[0]*iterations\n",
    "            r2=[0]*iterations\n",
    "            flag=0\n",
    "            for iter in range(iterations):\n",
    "                for k in range(n):\n",
    "                    if(k == 0):\n",
    "                        p_diff_cost[0]=((beta[0]+np.dot(beta[1:],xt))-y_train).sum()\n",
    "                    else:\n",
    "                        p_diff_cost[k]=np.dot((beta[0]+(np.dot(beta[1:],xt))-y_train),X_train.iloc[:,k-1])\n",
    "\n",
    "                for bit in range(n):\n",
    "                    beta[bit]=round((beta[bit]-(alpha*p_diff_cost[bit])/rows),4)\n",
    "\n",
    "                pred=beta[0]+np.dot(beta[1:],xt)\n",
    "\n",
    "                cf[iter],mse[iter],mae[iter],r2[iter] = calculate_metrics(y_train,pred,rows)\n",
    "                if cf[iter-1] - cf[iter]<=t and flag == 0 and iter>0 and exp == 1:\n",
    "                    print(\"With learning rate of %.3f, cost fuction converged at iteration %d\" %(alpha,iter))\n",
    "                    flag=1\n",
    "\n",
    "                if cf[iter-1] - cf[iter]<=t and exp == 2 and iter>0:\n",
    "                    print(\"Convergence with threshold %f reached at iteration %d\" %(t,iter))\n",
    "                    beta_dict[t], cf_dict[t],mse_train[t],mae_train[t],r_squared[t] = beta,cf,mse,mae,r2\n",
    "                    break\n",
    "\n",
    "        if exp == 1 or exp==3 or exp == 4:\n",
    "            beta_dict[alpha], cf_dict[alpha],mse_train[alpha],mae_train[alpha],r_squared[alpha] = beta,cf,mse,mae,r2\n",
    "        \n",
    "    return(beta_dict,cf_dict,mse_train,mae_train,r_squared)"
   ]
  },
  {
   "cell_type": "code",
   "execution_count": 1120,
   "metadata": {},
   "outputs": [
    {
     "name": "stderr",
     "output_type": "stream",
     "text": [
      "c:\\users\\aashe\\appdata\\local\\programs\\python\\python37-32\\lib\\site-packages\\sklearn\\preprocessing\\data.py:617: DataConversionWarning: Data with input dtype int64, float64 were all converted to float64 by StandardScaler.\n",
      "  return self.partial_fit(X, y)\n",
      "c:\\users\\aashe\\appdata\\local\\programs\\python\\python37-32\\lib\\site-packages\\sklearn\\base.py:462: DataConversionWarning: Data with input dtype int64, float64 were all converted to float64 by StandardScaler.\n",
      "  return self.fit(X, **fit_params).transform(X)\n"
     ]
    },
    {
     "name": "stdout",
     "output_type": "stream",
     "text": [
      "With learning rate of 0.005, cost fuction converged at iteration 585\n",
      "With learning rate of 0.007, cost fuction converged at iteration 453\n",
      "With learning rate of 0.010, cost fuction converged at iteration 347\n"
     ]
    }
   ],
   "source": [
    "df_no_outliers = outlier(df_filter) ###Outlier Removal\n",
    "df_scaled = feature_scaling(df_no_outliers)  ###Normalisation of features\n",
    "\n",
    "x=df_scaled.iloc[:,1:]\n",
    "y=df_no_outliers['Appliances']\n",
    "X_train, X_test, y_train, y_test = train_test_split(x, y, test_size=0.3,random_state=1)\n",
    "\n",
    "beta_dict,cf_dict,mse_train,mae_train,r_squared = GD_Linear(X_train, X_test, y_train, y_test,1)"
   ]
  },
  {
   "cell_type": "markdown",
   "metadata": {},
   "source": [
    "### Plots"
   ]
  },
  {
   "cell_type": "code",
   "execution_count": 1123,
   "metadata": {},
   "outputs": [
    {
     "data": {
      "image/png": "[encoded data removed]",
      "text/plain": [
       "<Figure size 432x288 with 1 Axes>"
      ]
     },
     "metadata": {
      "needs_background": "light"
     },
     "output_type": "display_data"
    }
   ],
   "source": [
    "for i in [0.005,0.007,0.01]:\n",
    "    plt.plot(cf_dict[i],label='Alpha: %.3f' %i)\n",
    "plt.legend(loc=\"upper right\")\n",
    "plt.xlabel(\"\\nNumber of iterations\")\n",
    "plt.ylabel(\"\\nCost Function\")\n",
    "plt.title(\"\\nCost Function with different Learning rates\\n\")\n",
    "plt.show()"
   ]
  },
  {
   "cell_type": "code",
   "execution_count": 1124,
   "metadata": {},
   "outputs": [
    {
     "data": {
      "image/png": "[encoded data removed]",
      "text/plain": [
       "<Figure size 432x288 with 1 Axes>"
      ]
     },
     "metadata": {
      "needs_background": "light"
     },
     "output_type": "display_data"
    }
   ],
   "source": [
    "for i in [0.005,0.007,0.01]:\n",
    "    plt.plot(mse_train[i],label='Alpha: %.3f' %i)\n",
    "plt.legend(loc=\"upper right\")\n",
    "plt.xlabel(\"\\nNumber of iterations\")\n",
    "plt.ylabel(\"\\nMean Squared Error\")\n",
    "plt.title(\"\\nMean Squared Error with different Learning rates\\n\")\n",
    "plt.show()"
   ]
  },
  {
   "cell_type": "code",
   "execution_count": 1125,
   "metadata": {},
   "outputs": [
    {
     "data": {
      "image/png": "[encoded data removed]",
      "text/plain": [
       "<Figure size 432x288 with 1 Axes>"
      ]
     },
     "metadata": {
      "needs_background": "light"
     },
     "output_type": "display_data"
    }
   ],
   "source": [
    "for i in [0.005,0.007,0.01]:\n",
    "    plt.plot(mae_train[i],label='Alpha: %.3f' %i)\n",
    "plt.legend(loc=\"upper right\")\n",
    "plt.xlabel(\"\\nNumber of iterations\")\n",
    "plt.ylabel(\"\\nMean Absolute Error\")\n",
    "plt.title(\"\\nMean Absolute Error with different Learning rates\\n\")\n",
    "plt.show()\n",
    "plt.show()"
   ]
  },
  {
   "cell_type": "markdown",
   "metadata": {},
   "source": [
    "### Best Values for Experimentation 1"
   ]
  },
  {
   "cell_type": "code",
   "execution_count": 1126,
   "metadata": {},
   "outputs": [],
   "source": [
    "cf_final = {}\n",
    "mse_final = {}\n",
    "mae_final = {}\n",
    "r2_final = {}\n",
    "for alpha in [0.005,0.007,0.01]:\n",
    "    cf_final[alpha] = min(cf_dict[alpha])\n",
    "    mse_final[alpha] = min(mse_train[alpha])\n",
    "    mae_final[alpha] = min(mae_train[alpha])\n",
    "    r2_final[alpha] = max(r_squared[alpha])"
   ]
  },
  {
   "cell_type": "code",
   "execution_count": 1127,
   "metadata": {},
   "outputs": [
    {
     "data": {
      "text/html": [
       "<div>\n",
       "<style scoped>\n",
       "    .dataframe tbody tr th:only-of-type {\n",
       "        vertical-align: middle;\n",
       "    }\n",
       "\n",
       "    .dataframe tbody tr th {\n",
       "        vertical-align: top;\n",
       "    }\n",
       "\n",
       "    .dataframe thead th {\n",
       "        text-align: right;\n",
       "    }\n",
       "</style>\n",
       "<table border=\"1\" class=\"dataframe\">\n",
       "  <thead>\n",
       "    <tr style=\"text-align: right;\">\n",
       "      <th></th>\n",
       "      <th>CF_Test</th>\n",
       "      <th>CF_Train</th>\n",
       "      <th>MAE_Test</th>\n",
       "      <th>MAE_Train</th>\n",
       "      <th>MSE_Test</th>\n",
       "      <th>MSE_Train</th>\n",
       "      <th>R2_Test</th>\n",
       "      <th>R2_Train</th>\n",
       "    </tr>\n",
       "  </thead>\n",
       "  <tbody>\n",
       "    <tr>\n",
       "      <th>0.005</th>\n",
       "      <td>304.5010</td>\n",
       "      <td>293.2792</td>\n",
       "      <td>18.1977</td>\n",
       "      <td>18.0251</td>\n",
       "      <td>609.0019</td>\n",
       "      <td>586.5584</td>\n",
       "      <td>0.2564</td>\n",
       "      <td>0.2738</td>\n",
       "    </tr>\n",
       "    <tr>\n",
       "      <th>0.007</th>\n",
       "      <td>299.5531</td>\n",
       "      <td>288.1972</td>\n",
       "      <td>18.0840</td>\n",
       "      <td>17.9445</td>\n",
       "      <td>599.1063</td>\n",
       "      <td>576.3945</td>\n",
       "      <td>0.2685</td>\n",
       "      <td>0.2864</td>\n",
       "    </tr>\n",
       "    <tr>\n",
       "      <th>0.010</th>\n",
       "      <td>295.7512</td>\n",
       "      <td>284.1783</td>\n",
       "      <td>17.9523</td>\n",
       "      <td>17.8141</td>\n",
       "      <td>591.5025</td>\n",
       "      <td>568.3566</td>\n",
       "      <td>0.2778</td>\n",
       "      <td>0.2963</td>\n",
       "    </tr>\n",
       "  </tbody>\n",
       "</table>\n",
       "</div>"
      ],
      "text/plain": [
       "        CF_Test  CF_Train  MAE_Test  MAE_Train  MSE_Test  MSE_Train  R2_Test  \\\n",
       "0.005  304.5010  293.2792   18.1977    18.0251  609.0019   586.5584   0.2564   \n",
       "0.007  299.5531  288.1972   18.0840    17.9445  599.1063   576.3945   0.2685   \n",
       "0.010  295.7512  284.1783   17.9523    17.8141  591.5025   568.3566   0.2778   \n",
       "\n",
       "       R2_Train  \n",
       "0.005    0.2738  \n",
       "0.007    0.2864  \n",
       "0.010    0.2963  "
      ]
     },
     "execution_count": 1127,
     "metadata": {},
     "output_type": "execute_result"
    }
   ],
   "source": [
    "train_metrics= pd.DataFrame([cf_final, mse_final,mae_final,r2_final],index=['CF_Train','MSE_Train','MAE_Train','R2_Train']).T\n",
    "\n",
    "xt_test = X_test.values.transpose()\n",
    "rows_test = X_test.shape[0]\n",
    "cf_test = {}\n",
    "mse_test = {}\n",
    "mae_test = {}\n",
    "r2_test = {}\n",
    "for alpha in [0.005,0.007,0.01]:\n",
    "    beta = beta_dict[alpha]\n",
    "    pred_test = beta[0]+np.dot(beta[1:],xt_test)\n",
    "    cf_test[alpha],mse_test[alpha],mae_test[alpha],r2_test[alpha] = calculate_metrics(y_test,pred_test,rows_test)\n",
    "    \n",
    "test_metrics=pd.DataFrame([cf_test, mse_test,mae_test,r2_test],index=['CF_Test','MSE_Test','MAE_Test','R2_Test']).T\n",
    "\n",
    "metrics1=pd.concat([train_metrics,test_metrics],axis=1)\n",
    "metrics1.reindex(sorted(metrics1.columns), axis=1)"
   ]
  },
  {
   "cell_type": "code",
   "execution_count": 565,
   "metadata": {},
   "outputs": [
    {
     "data": {
      "text/plain": [
       "<matplotlib.axes._subplots.AxesSubplot at 0x1977c930>"
      ]
     },
     "execution_count": 565,
     "metadata": {},
     "output_type": "execute_result"
    },
    {
     "data": {
      "image/png": "[encoded data removed]",
      "text/plain": [
       "<Figure size 432x288 with 1 Axes>"
      ]
     },
     "metadata": {
      "needs_background": "light"
     },
     "output_type": "display_data"
    }
   ],
   "source": [
    "metrics1[['CF_Test','CF_Train']].plot(kind='bar', title =\"Cost Function\", legend=True, fontsize=12)"
   ]
  },
  {
   "cell_type": "markdown",
   "metadata": {},
   "source": [
    "### Experimentation 2 - Thresholds"
   ]
  },
  {
   "cell_type": "code",
   "execution_count": 566,
   "metadata": {},
   "outputs": [
    {
     "name": "stdout",
     "output_type": "stream",
     "text": [
      "Convergence with threshold 0.005000 reached at iteration 1413\n",
      "Convergence with threshold 0.010000 reached at iteration 980\n",
      "Convergence with threshold 0.100000 reached at iteration 347\n"
     ]
    }
   ],
   "source": [
    "beta_dict,cf_dict,mse_train,mae_train,r_squared = GD_Linear(X_train, X_test, y_train, y_test,2)"
   ]
  },
  {
   "cell_type": "code",
   "execution_count": 567,
   "metadata": {},
   "outputs": [
    {
     "data": {
      "image/png": "[encoded data removed]",
      "text/plain": [
       "<Figure size 432x288 with 1 Axes>"
      ]
     },
     "metadata": {
      "needs_background": "light"
     },
     "output_type": "display_data"
    }
   ],
   "source": [
    "for i in [0.005,0.01,0.1]:\n",
    "    plt.plot(cf_dict[i],label='Threshold: %.3f' %i)\n",
    "plt.legend(loc=\"upper right\")\n",
    "plt.xlabel(\"\\nNumber of iterations\")\n",
    "plt.ylabel(\"\\nCost Function\")\n",
    "plt.title(\"\\nCost Function with different Thresholds\\n\")\n",
    "plt.show()"
   ]
  },
  {
   "cell_type": "code",
   "execution_count": 568,
   "metadata": {},
   "outputs": [
    {
     "data": {
      "image/png": "[encoded data removed]",
      "text/plain": [
       "<Figure size 432x288 with 1 Axes>"
      ]
     },
     "metadata": {
      "needs_background": "light"
     },
     "output_type": "display_data"
    }
   ],
   "source": [
    "for i in [0.005,0.01,0.1]:\n",
    "    plt.plot(mse_train[i],label='Threshold: %.3f' %i)\n",
    "plt.legend(loc=\"upper right\")\n",
    "plt.xlabel(\"\\nNumber of iterations\")\n",
    "plt.ylabel(\"\\nMean Squared Error\")\n",
    "plt.title(\"\\nMean Squared Error with different Thresholds\\n\")\n",
    "plt.show()"
   ]
  },
  {
   "cell_type": "markdown",
   "metadata": {},
   "source": [
    "### Best Values for Experimentation 2"
   ]
  },
  {
   "cell_type": "code",
   "execution_count": 570,
   "metadata": {},
   "outputs": [],
   "source": [
    "cf_final = {}\n",
    "mse_final = {}\n",
    "mae_final = {}\n",
    "r2_final = {}\n",
    "for t in [0.005,0.01,0.1]:\n",
    "    \n",
    "    cf_dict[t].sort()\n",
    "    mse_train[t].sort()\n",
    "    mae_train[t].sort()\n",
    "    r_squared[t].sort()\n",
    "    cf_final[t] = min([x for x in cf_dict[t] if x!=0])\n",
    "    mse_final[t] = min([x for x in mse_train[t] if x!=0])\n",
    "    mae_final[t] = min([x for x in mae_train[t] if x!=0])\n",
    "    r2_final[t] = max([x for x in r_squared[t] if x!=0])"
   ]
  },
  {
   "cell_type": "code",
   "execution_count": 571,
   "metadata": {},
   "outputs": [],
   "source": [
    "train_metrics= pd.DataFrame([cf_final, mse_final,mae_final,r2_final],index=['CF_Train','MSE_Train','MAE_Train','R2_Train']).T"
   ]
  },
  {
   "cell_type": "code",
   "execution_count": 572,
   "metadata": {},
   "outputs": [],
   "source": [
    "xt_test = X_test.values.transpose()\n",
    "rows_test = X_test.shape[0]\n",
    "cf_test = {}\n",
    "mse_test = {}\n",
    "mae_test = {}\n",
    "r2_test = {}\n",
    "for t in [0.005,0.01,0.1]:\n",
    "    beta = beta_dict[t]\n",
    "    pred_test = beta[0]+np.dot(beta[1:],xt_test)\n",
    "    cf_test[t],mse_test[t],mae_test[t],r2_test[t] = calculate_metrics(y_test,pred_test,rows_test)"
   ]
  },
  {
   "cell_type": "code",
   "execution_count": 574,
   "metadata": {},
   "outputs": [],
   "source": [
    "test_metrics=pd.DataFrame([cf_test, mse_test,mae_test,r2_test],index=['CF_Test','MSE_Test','MAE_Test','R2_Test']).T"
   ]
  },
  {
   "cell_type": "code",
   "execution_count": 575,
   "metadata": {},
   "outputs": [
    {
     "data": {
      "text/html": [
       "<div>\n",
       "<style scoped>\n",
       "    .dataframe tbody tr th:only-of-type {\n",
       "        vertical-align: middle;\n",
       "    }\n",
       "\n",
       "    .dataframe tbody tr th {\n",
       "        vertical-align: top;\n",
       "    }\n",
       "\n",
       "    .dataframe thead th {\n",
       "        text-align: right;\n",
       "    }\n",
       "</style>\n",
       "<table border=\"1\" class=\"dataframe\">\n",
       "  <thead>\n",
       "    <tr style=\"text-align: right;\">\n",
       "      <th></th>\n",
       "      <th>CF_Test</th>\n",
       "      <th>CF_Train</th>\n",
       "      <th>MAE_Test</th>\n",
       "      <th>MAE_Train</th>\n",
       "      <th>MSE_Test</th>\n",
       "      <th>MSE_Train</th>\n",
       "      <th>R2_Test</th>\n",
       "      <th>R2_Train</th>\n",
       "    </tr>\n",
       "  </thead>\n",
       "  <tbody>\n",
       "    <tr>\n",
       "      <th>0.005</th>\n",
       "      <td>293.0501</td>\n",
       "      <td>281.2739</td>\n",
       "      <td>17.8528</td>\n",
       "      <td>17.7112</td>\n",
       "      <td>586.1001</td>\n",
       "      <td>562.5477</td>\n",
       "      <td>0.2844</td>\n",
       "      <td>0.3035</td>\n",
       "    </tr>\n",
       "    <tr>\n",
       "      <th>0.010</th>\n",
       "      <td>295.9267</td>\n",
       "      <td>284.3652</td>\n",
       "      <td>17.9587</td>\n",
       "      <td>17.8206</td>\n",
       "      <td>591.8534</td>\n",
       "      <td>568.7304</td>\n",
       "      <td>0.2773</td>\n",
       "      <td>0.2959</td>\n",
       "    </tr>\n",
       "    <tr>\n",
       "      <th>0.100</th>\n",
       "      <td>313.1375</td>\n",
       "      <td>301.9032</td>\n",
       "      <td>18.1993</td>\n",
       "      <td>18.0263</td>\n",
       "      <td>626.2751</td>\n",
       "      <td>603.8064</td>\n",
       "      <td>0.2353</td>\n",
       "      <td>0.2524</td>\n",
       "    </tr>\n",
       "  </tbody>\n",
       "</table>\n",
       "</div>"
      ],
      "text/plain": [
       "        CF_Test  CF_Train  MAE_Test  MAE_Train  MSE_Test  MSE_Train  R2_Test  \\\n",
       "0.005  293.0501  281.2739   17.8528    17.7112  586.1001   562.5477   0.2844   \n",
       "0.010  295.9267  284.3652   17.9587    17.8206  591.8534   568.7304   0.2773   \n",
       "0.100  313.1375  301.9032   18.1993    18.0263  626.2751   603.8064   0.2353   \n",
       "\n",
       "       R2_Train  \n",
       "0.005    0.3035  \n",
       "0.010    0.2959  \n",
       "0.100    0.2524  "
      ]
     },
     "execution_count": 575,
     "metadata": {},
     "output_type": "execute_result"
    }
   ],
   "source": [
    "metrics1=pd.concat([train_metrics,test_metrics],axis=1)\n",
    "metrics1.reindex(sorted(metrics1.columns), axis=1)"
   ]
  },
  {
   "cell_type": "code",
   "execution_count": 576,
   "metadata": {},
   "outputs": [
    {
     "data": {
      "text/plain": [
       "<matplotlib.axes._subplots.AxesSubplot at 0x19d6cb70>"
      ]
     },
     "execution_count": 576,
     "metadata": {},
     "output_type": "execute_result"
    },
    {
     "data": {
      "image/png": "[encoded data removed]",
      "text/plain": [
       "<Figure size 432x288 with 1 Axes>"
      ]
     },
     "metadata": {
      "needs_background": "light"
     },
     "output_type": "display_data"
    }
   ],
   "source": [
    "metrics1[['CF_Test','CF_Train']].plot(kind='bar', title =\"Cost Function\", legend=True, fontsize=12)"
   ]
  },
  {
   "cell_type": "markdown",
   "metadata": {},
   "source": [
    "### Experimentation 3: Training and Testing on  10 Random Features"
   ]
  },
  {
   "cell_type": "code",
   "execution_count": 1129,
   "metadata": {},
   "outputs": [
    {
     "name": "stderr",
     "output_type": "stream",
     "text": [
      "c:\\users\\aashe\\appdata\\local\\programs\\python\\python37-32\\lib\\site-packages\\sklearn\\preprocessing\\data.py:617: DataConversionWarning: Data with input dtype int64, float64 were all converted to float64 by StandardScaler.\n",
      "  return self.partial_fit(X, y)\n",
      "c:\\users\\aashe\\appdata\\local\\programs\\python\\python37-32\\lib\\site-packages\\sklearn\\base.py:462: DataConversionWarning: Data with input dtype int64, float64 were all converted to float64 by StandardScaler.\n",
      "  return self.fit(X, **fit_params).transform(X)\n"
     ]
    }
   ],
   "source": [
    "random.seed(1)\n",
    "random_features=random.sample(range(27), 10)\n",
    "\n",
    "df=pd.read_csv(\"energydata_complete.csv\")\n",
    "df=df.drop(columns = ['date'])\n",
    "df_no_outliers = outlier(df) ###Outlier Removal\n",
    "df_scaled = feature_scaling(df_no_outliers)  ###Normalisation of features\n",
    "\n",
    "x_random=df_scaled.iloc[:,random_features]\n",
    "y=df_no_outliers['Appliances']\n",
    "X_train3, X_test3, y_train, y_test = train_test_split(x_random, y, test_size=0.3,random_state=1)\n",
    "\n",
    "\n",
    "# x_random = x.iloc[:,random_features]\n",
    "# y=df_no_outliers['Appliances']\n",
    "# X_train3, X_test3, y_train, y_test = train_test_split(x_random, y, test_size=0.3,random_state=1)\n",
    "beta_dict,cf_dict,mse_train,mae_train,r_squared = GD_Linear(X_train3, X_test3, y_train, y_test,3)"
   ]
  },
  {
   "cell_type": "code",
   "execution_count": 1131,
   "metadata": {},
   "outputs": [],
   "source": [
    "cf_final\n",
    "mse_final \n",
    "r2_final\n",
    "for alpha in [0.01]:\n",
    "    cf_final = min(cf_dict[alpha])\n",
    "    mse_final = min(mse_train[alpha])\n",
    "    r2_final = max(r_squared[alpha])"
   ]
  },
  {
   "cell_type": "code",
   "execution_count": 1132,
   "metadata": {},
   "outputs": [
    {
     "name": "stderr",
     "output_type": "stream",
     "text": [
      "c:\\users\\aashe\\appdata\\local\\programs\\python\\python37-32\\lib\\site-packages\\ipykernel_launcher.py:22: FutureWarning: Sorting because non-concatenation axis is not aligned. A future version\n",
      "of pandas will change to not sort by default.\n",
      "\n",
      "To accept the future behavior, pass 'sort=False'.\n",
      "\n",
      "To retain the current behavior and silence the warning, pass 'sort=True'.\n",
      "\n"
     ]
    },
    {
     "data": {
      "text/html": [
       "<div>\n",
       "<style scoped>\n",
       "    .dataframe tbody tr th:only-of-type {\n",
       "        vertical-align: middle;\n",
       "    }\n",
       "\n",
       "    .dataframe tbody tr th {\n",
       "        vertical-align: top;\n",
       "    }\n",
       "\n",
       "    .dataframe thead th {\n",
       "        text-align: right;\n",
       "    }\n",
       "</style>\n",
       "<table border=\"1\" class=\"dataframe\">\n",
       "  <thead>\n",
       "    <tr style=\"text-align: right;\">\n",
       "      <th></th>\n",
       "      <th>CF_Test</th>\n",
       "      <th>CF_Train</th>\n",
       "      <th>MSE_Test</th>\n",
       "      <th>MSE_Train</th>\n",
       "      <th>R2_Test</th>\n",
       "      <th>R2_Train</th>\n",
       "    </tr>\n",
       "  </thead>\n",
       "  <tbody>\n",
       "    <tr>\n",
       "      <th>Random 10</th>\n",
       "      <td>338.3284</td>\n",
       "      <td>328.2843</td>\n",
       "      <td>676.6569</td>\n",
       "      <td>656.5687</td>\n",
       "      <td>0.1738</td>\n",
       "      <td>0.1871</td>\n",
       "    </tr>\n",
       "    <tr>\n",
       "      <th>Full Model</th>\n",
       "      <td>295.7512</td>\n",
       "      <td>284.1783</td>\n",
       "      <td>591.5025</td>\n",
       "      <td>568.3566</td>\n",
       "      <td>0.2778</td>\n",
       "      <td>0.2963</td>\n",
       "    </tr>\n",
       "  </tbody>\n",
       "</table>\n",
       "</div>"
      ],
      "text/plain": [
       "             CF_Test  CF_Train  MSE_Test  MSE_Train  R2_Test  R2_Train\n",
       "Random 10   338.3284  328.2843  676.6569   656.5687   0.1738    0.1871\n",
       "Full Model  295.7512  284.1783  591.5025   568.3566   0.2778    0.2963"
      ]
     },
     "execution_count": 1132,
     "metadata": {},
     "output_type": "execute_result"
    }
   ],
   "source": [
    "train_metrics3=pd.DataFrame([cf_final, mse_final,r2_final],index=['CF_Train','MSE_Train','R2_Train'],columns=['Random 10']).T\n",
    "\n",
    "xt_test = X_test3.values.transpose()\n",
    "rows_test = X_test3.shape[0]\n",
    "cf_test = {}\n",
    "mse_test = {}\n",
    "r2_test = {}\n",
    "for alpha in [0.01]:\n",
    "    beta = beta_dict[alpha]\n",
    "    pred_test = beta[0]+np.dot(beta[1:],xt_test)\n",
    "    cf_test,mse_test,mae_test,r2_test = calculate_metrics(y_test,pred_test,rows_test)\n",
    "    \n",
    "test_metrics3 = pd.DataFrame([cf_test, mse_test,r2_test],index=['CF_Test','MSE_Test','R2_Test'],columns=['Random 10']).T\n",
    "metrics3=pd.concat([train_metrics3,test_metrics3],axis=1)\n",
    "\n",
    "full_model_metrics = metrics1.reindex(sorted(metrics1.columns), axis=1)\n",
    "full_model_metrics = full_model_metrics.iloc[2:,[0,1,4,5,6,7]]\n",
    "full_model_metrics=pd.DataFrame(full_model_metrics).T\n",
    "full_model_metrics.columns=['Full Model']\n",
    "full_model_metrics=pd.DataFrame(full_model_metrics).T\n",
    "\n",
    "pd.concat([metrics3,full_model_metrics],axis=0)"
   ]
  },
  {
   "cell_type": "code",
   "execution_count": null,
   "metadata": {},
   "outputs": [],
   "source": []
  },
  {
   "cell_type": "markdown",
   "metadata": {},
   "source": [
    "## Logistic Regression"
   ]
  },
  {
   "cell_type": "markdown",
   "metadata": {},
   "source": [
    "### Creating classes for Target Variable"
   ]
  },
  {
   "cell_type": "code",
   "execution_count": 1147,
   "metadata": {},
   "outputs": [],
   "source": [
    "### Splitting classes based on its Median\n",
    "\n",
    "df_logistic = df_filter.copy()\n",
    "df_logistic['Appliances_class'] = [0 if x <= 60 else 1 for x in df_logistic['Appliances']] \n",
    "df_no_outliers=outlier(df_logistic)\n",
    "df_logistic = df_logistic.drop(columns = ['Appliances'])"
   ]
  },
  {
   "cell_type": "code",
   "execution_count": 1148,
   "metadata": {},
   "outputs": [
    {
     "data": {
      "text/html": [
       "<div>\n",
       "<style scoped>\n",
       "    .dataframe tbody tr th:only-of-type {\n",
       "        vertical-align: middle;\n",
       "    }\n",
       "\n",
       "    .dataframe tbody tr th {\n",
       "        vertical-align: top;\n",
       "    }\n",
       "\n",
       "    .dataframe thead th {\n",
       "        text-align: right;\n",
       "    }\n",
       "</style>\n",
       "<table border=\"1\" class=\"dataframe\">\n",
       "  <thead>\n",
       "    <tr style=\"text-align: right;\">\n",
       "      <th></th>\n",
       "      <th>T1</th>\n",
       "      <th>RH_1</th>\n",
       "      <th>T2</th>\n",
       "      <th>RH_2</th>\n",
       "      <th>RH_3</th>\n",
       "      <th>RH_5</th>\n",
       "      <th>T6</th>\n",
       "      <th>RH_6</th>\n",
       "      <th>T8</th>\n",
       "      <th>RH_8</th>\n",
       "      <th>T9</th>\n",
       "      <th>RH_9</th>\n",
       "      <th>Press_mm_hg</th>\n",
       "      <th>RH_out</th>\n",
       "      <th>Windspeed</th>\n",
       "      <th>Visibility</th>\n",
       "      <th>Tdewpoint</th>\n",
       "      <th>Appliances_class</th>\n",
       "    </tr>\n",
       "  </thead>\n",
       "  <tbody>\n",
       "    <tr>\n",
       "      <th>0</th>\n",
       "      <td>19.89</td>\n",
       "      <td>47.596667</td>\n",
       "      <td>19.2</td>\n",
       "      <td>44.790000</td>\n",
       "      <td>44.730000</td>\n",
       "      <td>55.20</td>\n",
       "      <td>7.026667</td>\n",
       "      <td>84.256667</td>\n",
       "      <td>18.2</td>\n",
       "      <td>48.900000</td>\n",
       "      <td>17.033333</td>\n",
       "      <td>45.53</td>\n",
       "      <td>733.5</td>\n",
       "      <td>92.0</td>\n",
       "      <td>7.000000</td>\n",
       "      <td>63.000000</td>\n",
       "      <td>5.3</td>\n",
       "      <td>0</td>\n",
       "    </tr>\n",
       "    <tr>\n",
       "      <th>1</th>\n",
       "      <td>19.89</td>\n",
       "      <td>46.693333</td>\n",
       "      <td>19.2</td>\n",
       "      <td>44.722500</td>\n",
       "      <td>44.790000</td>\n",
       "      <td>55.20</td>\n",
       "      <td>6.833333</td>\n",
       "      <td>84.063333</td>\n",
       "      <td>18.2</td>\n",
       "      <td>48.863333</td>\n",
       "      <td>17.066667</td>\n",
       "      <td>45.56</td>\n",
       "      <td>733.6</td>\n",
       "      <td>92.0</td>\n",
       "      <td>6.666667</td>\n",
       "      <td>59.166667</td>\n",
       "      <td>5.2</td>\n",
       "      <td>0</td>\n",
       "    </tr>\n",
       "    <tr>\n",
       "      <th>2</th>\n",
       "      <td>19.89</td>\n",
       "      <td>46.300000</td>\n",
       "      <td>19.2</td>\n",
       "      <td>44.626667</td>\n",
       "      <td>44.933333</td>\n",
       "      <td>55.09</td>\n",
       "      <td>6.560000</td>\n",
       "      <td>83.156667</td>\n",
       "      <td>18.2</td>\n",
       "      <td>48.730000</td>\n",
       "      <td>17.000000</td>\n",
       "      <td>45.50</td>\n",
       "      <td>733.7</td>\n",
       "      <td>92.0</td>\n",
       "      <td>6.333333</td>\n",
       "      <td>55.333333</td>\n",
       "      <td>5.1</td>\n",
       "      <td>0</td>\n",
       "    </tr>\n",
       "    <tr>\n",
       "      <th>3</th>\n",
       "      <td>19.89</td>\n",
       "      <td>46.066667</td>\n",
       "      <td>19.2</td>\n",
       "      <td>44.590000</td>\n",
       "      <td>45.000000</td>\n",
       "      <td>55.09</td>\n",
       "      <td>6.433333</td>\n",
       "      <td>83.423333</td>\n",
       "      <td>18.1</td>\n",
       "      <td>48.590000</td>\n",
       "      <td>17.000000</td>\n",
       "      <td>45.40</td>\n",
       "      <td>733.8</td>\n",
       "      <td>92.0</td>\n",
       "      <td>6.000000</td>\n",
       "      <td>51.500000</td>\n",
       "      <td>5.0</td>\n",
       "      <td>0</td>\n",
       "    </tr>\n",
       "    <tr>\n",
       "      <th>4</th>\n",
       "      <td>19.89</td>\n",
       "      <td>46.333333</td>\n",
       "      <td>19.2</td>\n",
       "      <td>44.530000</td>\n",
       "      <td>45.000000</td>\n",
       "      <td>55.09</td>\n",
       "      <td>6.366667</td>\n",
       "      <td>84.893333</td>\n",
       "      <td>18.1</td>\n",
       "      <td>48.590000</td>\n",
       "      <td>17.000000</td>\n",
       "      <td>45.40</td>\n",
       "      <td>733.9</td>\n",
       "      <td>92.0</td>\n",
       "      <td>5.666667</td>\n",
       "      <td>47.666667</td>\n",
       "      <td>4.9</td>\n",
       "      <td>0</td>\n",
       "    </tr>\n",
       "  </tbody>\n",
       "</table>\n",
       "</div>"
      ],
      "text/plain": [
       "      T1       RH_1    T2       RH_2       RH_3   RH_5        T6       RH_6  \\\n",
       "0  19.89  47.596667  19.2  44.790000  44.730000  55.20  7.026667  84.256667   \n",
       "1  19.89  46.693333  19.2  44.722500  44.790000  55.20  6.833333  84.063333   \n",
       "2  19.89  46.300000  19.2  44.626667  44.933333  55.09  6.560000  83.156667   \n",
       "3  19.89  46.066667  19.2  44.590000  45.000000  55.09  6.433333  83.423333   \n",
       "4  19.89  46.333333  19.2  44.530000  45.000000  55.09  6.366667  84.893333   \n",
       "\n",
       "     T8       RH_8         T9   RH_9  Press_mm_hg  RH_out  Windspeed  \\\n",
       "0  18.2  48.900000  17.033333  45.53        733.5    92.0   7.000000   \n",
       "1  18.2  48.863333  17.066667  45.56        733.6    92.0   6.666667   \n",
       "2  18.2  48.730000  17.000000  45.50        733.7    92.0   6.333333   \n",
       "3  18.1  48.590000  17.000000  45.40        733.8    92.0   6.000000   \n",
       "4  18.1  48.590000  17.000000  45.40        733.9    92.0   5.666667   \n",
       "\n",
       "   Visibility  Tdewpoint  Appliances_class  \n",
       "0   63.000000        5.3                 0  \n",
       "1   59.166667        5.2                 0  \n",
       "2   55.333333        5.1                 0  \n",
       "3   51.500000        5.0                 0  \n",
       "4   47.666667        4.9                 0  "
      ]
     },
     "execution_count": 1148,
     "metadata": {},
     "output_type": "execute_result"
    }
   ],
   "source": [
    "df_logistic.head()"
   ]
  },
  {
   "cell_type": "code",
   "execution_count": 1145,
   "metadata": {},
   "outputs": [
    {
     "data": {
      "text/plain": [
       "(19735, 18)"
      ]
     },
     "execution_count": 1145,
     "metadata": {},
     "output_type": "execute_result"
    }
   ],
   "source": [
    "df_logistic.shape"
   ]
  },
  {
   "cell_type": "code",
   "execution_count": 1109,
   "metadata": {},
   "outputs": [
    {
     "data": {
      "text/html": [
       "<div>\n",
       "<style scoped>\n",
       "    .dataframe tbody tr th:only-of-type {\n",
       "        vertical-align: middle;\n",
       "    }\n",
       "\n",
       "    .dataframe tbody tr th {\n",
       "        vertical-align: top;\n",
       "    }\n",
       "\n",
       "    .dataframe thead th {\n",
       "        text-align: right;\n",
       "    }\n",
       "</style>\n",
       "<table border=\"1\" class=\"dataframe\">\n",
       "  <thead>\n",
       "    <tr style=\"text-align: right;\">\n",
       "      <th></th>\n",
       "      <th>Appliances_class</th>\n",
       "    </tr>\n",
       "  </thead>\n",
       "  <tbody>\n",
       "    <tr>\n",
       "      <th>0</th>\n",
       "      <td>10744</td>\n",
       "    </tr>\n",
       "    <tr>\n",
       "      <th>1</th>\n",
       "      <td>6853</td>\n",
       "    </tr>\n",
       "  </tbody>\n",
       "</table>\n",
       "</div>"
      ],
      "text/plain": [
       "   Appliances_class\n",
       "0             10744\n",
       "1              6853"
      ]
     },
     "execution_count": 1109,
     "metadata": {},
     "output_type": "execute_result"
    }
   ],
   "source": [
    "pd.DataFrame(df_logistic['Appliances_class'].value_counts())"
   ]
  },
  {
   "cell_type": "markdown",
   "metadata": {},
   "source": [
    "### Sigmoid Function"
   ]
  },
  {
   "cell_type": "code",
   "execution_count": 1110,
   "metadata": {},
   "outputs": [],
   "source": [
    "def predict(beta,xt):\n",
    "    z=beta[0]+(np.dot(beta[1:],xt))\n",
    "    sigmoid = 1 / (1 + np.exp(-z))\n",
    "    return(sigmoid)     "
   ]
  },
  {
   "cell_type": "markdown",
   "metadata": {},
   "source": [
    "### Cost Calculation"
   ]
  },
  {
   "cell_type": "code",
   "execution_count": 1111,
   "metadata": {},
   "outputs": [],
   "source": [
    "def cost_function(final_pred,y_train):\n",
    "    a=y_train*np.log(final_pred)\n",
    "    b=(1-y_train)*np.log(1-final_pred)\n",
    "    cost=(a+b).sum()\n",
    "    return(cost)"
   ]
  },
  {
   "cell_type": "markdown",
   "metadata": {},
   "source": [
    "### Gradient Descent for Logistic Regression"
   ]
  },
  {
   "cell_type": "code",
   "execution_count": 1112,
   "metadata": {},
   "outputs": [],
   "source": [
    "def GD_Logistic(X_train, X_test, y_train, y_test,exp):\n",
    "    cf_dict={}\n",
    "    beta_dict={}\n",
    "    pred_proba_dict={}\n",
    "    if exp == 1:\n",
    "        lrate=[0.005,0.007,0.01]\n",
    "    if exp == 3:\n",
    "        lrate=[0.01]\n",
    "    m=X_train.shape[0]\n",
    "    n=X_train.shape[1]+1\n",
    "    xt=X_train.values.transpose()\n",
    "\n",
    "    for alpha in lrate:\n",
    "        p_diff_cost=[0]*n\n",
    "        beta=[0.05]*n\n",
    "        cf=[0]*1000\n",
    "        for iter in range(1000):\n",
    "            for k in range(n):\n",
    "                if(k == 0):\n",
    "                    p_diff_cost[0]=(predict(beta,xt)-y_train).sum()\n",
    "                else:\n",
    "                    p_diff_cost[k]=np.dot((predict(beta,xt)-y_train),X_train.iloc[:,k-1])\n",
    "\n",
    "            for bit in range(n):\n",
    "                beta[bit]=round((beta[bit]-(alpha*p_diff_cost[bit])/m),4)\n",
    "\n",
    "            pred_proba=predict(beta,xt)\n",
    "            cf[iter]=-(cost_function(pred_proba,y_train))/m\n",
    "        cf_dict[alpha]=cf\n",
    "        beta_dict[alpha]=beta\n",
    "        pred_proba_dict[alpha]=pred_proba\n",
    "        \n",
    "    return(cf_dict,beta_dict,pred_proba_dict)\n"
   ]
  },
  {
   "cell_type": "markdown",
   "metadata": {},
   "source": [
    "### Experimentation 1: Varying Learning Rates"
   ]
  },
  {
   "cell_type": "code",
   "execution_count": 1113,
   "metadata": {},
   "outputs": [
    {
     "name": "stderr",
     "output_type": "stream",
     "text": [
      "c:\\users\\aashe\\appdata\\local\\programs\\python\\python37-32\\lib\\site-packages\\sklearn\\preprocessing\\data.py:617: DataConversionWarning: Data with input dtype int64, float64 were all converted to float64 by StandardScaler.\n",
      "  return self.partial_fit(X, y)\n",
      "c:\\users\\aashe\\appdata\\local\\programs\\python\\python37-32\\lib\\site-packages\\sklearn\\base.py:462: DataConversionWarning: Data with input dtype int64, float64 were all converted to float64 by StandardScaler.\n",
      "  return self.fit(X, **fit_params).transform(X)\n"
     ]
    }
   ],
   "source": [
    "df_logistic_scaled = feature_scaling(df_logistic)  ###Normalisation of features\n",
    "\n",
    "x=df_logistic_scaled.iloc[:,:17]\n",
    "y=df_logistic['Appliances_class']\n",
    "\n",
    "X_train, X_test, y_train, y_test = train_test_split(x, y, test_size=0.3,random_state=1)\n",
    "cf_dict,beta_dict,pred_proba_dict = GD_Logistic(X_train, X_test, y_train, y_test,1)"
   ]
  },
  {
   "cell_type": "code",
   "execution_count": 1116,
   "metadata": {},
   "outputs": [
    {
     "data": {
      "text/plain": [
       "[-0.437,\n",
       " 0.0798,\n",
       " 0.3029,\n",
       " 0.2156,\n",
       " -0.0554,\n",
       " 0.0445,\n",
       " 0.2512,\n",
       " 0.1891,\n",
       " 0.0643,\n",
       " 0.2423,\n",
       " -0.3875,\n",
       " -0.2166,\n",
       " -0.3899,\n",
       " -0.106,\n",
       " -0.1542,\n",
       " 0.1746,\n",
       " 0.0261,\n",
       " -0.0095]"
      ]
     },
     "execution_count": 1116,
     "metadata": {},
     "output_type": "execute_result"
    }
   ],
   "source": [
    "beta_dict[0.01]"
   ]
  },
  {
   "cell_type": "markdown",
   "metadata": {},
   "source": [
    "### Cost Fuction Plot"
   ]
  },
  {
   "cell_type": "code",
   "execution_count": 1114,
   "metadata": {},
   "outputs": [
    {
     "data": {
      "image/png": "[encoded data removed]",
      "text/plain": [
       "<Figure size 432x288 with 1 Axes>"
      ]
     },
     "metadata": {
      "needs_background": "light"
     },
     "output_type": "display_data"
    }
   ],
   "source": [
    "for i in [0.005,0.007,0.01]:\n",
    "    plt.plot(cf_dict[i],label='Alpha: %.3f' %i)\n",
    "plt.legend(loc=\"upper right\")\n",
    "plt.xlabel(\"\\nNumber of iterations\")\n",
    "plt.ylabel(\"\\nCost Function\")\n",
    "plt.title(\"\\nCost Function with different Learning rates\\n\")\n",
    "plt.show()"
   ]
  },
  {
   "cell_type": "markdown",
   "metadata": {},
   "source": [
    "### Values of Probabilities and Beta's for best Learning Rate"
   ]
  },
  {
   "cell_type": "code",
   "execution_count": 866,
   "metadata": {},
   "outputs": [],
   "source": [
    "pred_proba = pred_proba_dict[0.01]\n",
    "beta=beta_dict[0.01]"
   ]
  },
  {
   "cell_type": "markdown",
   "metadata": {},
   "source": [
    "### Predicting classes based on Probability results for Training data"
   ]
  },
  {
   "cell_type": "code",
   "execution_count": 867,
   "metadata": {},
   "outputs": [
    {
     "data": {
      "text/plain": [
       "0    8637\n",
       "1    3680\n",
       "dtype: int64"
      ]
     },
     "execution_count": 867,
     "metadata": {},
     "output_type": "execute_result"
    }
   ],
   "source": [
    "pred_class = [0 if i<=0.5 else 1 for i in pred_proba]\n",
    "pred_class=pd.Series(pred_class)\n",
    "pred_class.value_counts()"
   ]
  },
  {
   "cell_type": "markdown",
   "metadata": {},
   "source": [
    "### Confusion Matrix for Training Data"
   ]
  },
  {
   "cell_type": "code",
   "execution_count": 868,
   "metadata": {},
   "outputs": [
    {
     "data": {
      "text/html": [
       "<div>\n",
       "<style scoped>\n",
       "    .dataframe tbody tr th:only-of-type {\n",
       "        vertical-align: middle;\n",
       "    }\n",
       "\n",
       "    .dataframe tbody tr th {\n",
       "        vertical-align: top;\n",
       "    }\n",
       "\n",
       "    .dataframe thead th {\n",
       "        text-align: right;\n",
       "    }\n",
       "</style>\n",
       "<table border=\"1\" class=\"dataframe\">\n",
       "  <thead>\n",
       "    <tr style=\"text-align: right;\">\n",
       "      <th></th>\n",
       "      <th>Predicted 0</th>\n",
       "      <th>Predicted 1</th>\n",
       "    </tr>\n",
       "  </thead>\n",
       "  <tbody>\n",
       "    <tr>\n",
       "      <th>Actual 0</th>\n",
       "      <td>6414</td>\n",
       "      <td>1108</td>\n",
       "    </tr>\n",
       "    <tr>\n",
       "      <th>Actual 1</th>\n",
       "      <td>2223</td>\n",
       "      <td>2572</td>\n",
       "    </tr>\n",
       "  </tbody>\n",
       "</table>\n",
       "</div>"
      ],
      "text/plain": [
       "          Predicted 0  Predicted 1\n",
       "Actual 0         6414         1108\n",
       "Actual 1         2223         2572"
      ]
     },
     "execution_count": 868,
     "metadata": {},
     "output_type": "execute_result"
    }
   ],
   "source": [
    "pd.DataFrame(confusion_matrix(y_train,pred_class),index=['Actual 0','Actual 1'],columns=['Predicted 0','Predicted 1'])"
   ]
  },
  {
   "cell_type": "code",
   "execution_count": 869,
   "metadata": {},
   "outputs": [
    {
     "name": "stdout",
     "output_type": "stream",
     "text": [
      "0.5363920750782065\n",
      "0.8526987503323584\n",
      "0.7295607696679386\n"
     ]
    }
   ],
   "source": [
    "tn, fp, fn, tp = confusion_matrix(y_train,pred_class).ravel()\n",
    "Sensitivity = tp/(tp+fn)\n",
    "Specificity = tn/(tn+fp)\n",
    "print(Sensitivity)\n",
    "print(Specificity)\n",
    "print(accuracy_score(y_train,pred_class))"
   ]
  },
  {
   "cell_type": "markdown",
   "metadata": {},
   "source": [
    "### Test Dataset"
   ]
  },
  {
   "cell_type": "code",
   "execution_count": 870,
   "metadata": {},
   "outputs": [
    {
     "name": "stdout",
     "output_type": "stream",
     "text": [
      "0.23983741161543004\n"
     ]
    }
   ],
   "source": [
    "xt=X_test.values.transpose()\n",
    "class_pred_test = predict(beta,xt)\n",
    "test_cf = -(cost_function(class_pred_test,y_test))/m\n",
    "print(test_cf)"
   ]
  },
  {
   "cell_type": "markdown",
   "metadata": {},
   "source": [
    "### Predicting classes based on Probability results for Test data"
   ]
  },
  {
   "cell_type": "code",
   "execution_count": 871,
   "metadata": {},
   "outputs": [],
   "source": [
    "pred_test = [0 if i<=0.5 else 1 for i in class_pred_test]\n",
    "pred_test=pd.Series(pred_test)"
   ]
  },
  {
   "cell_type": "markdown",
   "metadata": {},
   "source": [
    "### Confusion Matrix for Test Dataset"
   ]
  },
  {
   "cell_type": "code",
   "execution_count": 872,
   "metadata": {},
   "outputs": [
    {
     "data": {
      "text/html": [
       "<div>\n",
       "<style scoped>\n",
       "    .dataframe tbody tr th:only-of-type {\n",
       "        vertical-align: middle;\n",
       "    }\n",
       "\n",
       "    .dataframe tbody tr th {\n",
       "        vertical-align: top;\n",
       "    }\n",
       "\n",
       "    .dataframe thead th {\n",
       "        text-align: right;\n",
       "    }\n",
       "</style>\n",
       "<table border=\"1\" class=\"dataframe\">\n",
       "  <thead>\n",
       "    <tr style=\"text-align: right;\">\n",
       "      <th></th>\n",
       "      <th>Predicted 0</th>\n",
       "      <th>Predicted 1</th>\n",
       "    </tr>\n",
       "  </thead>\n",
       "  <tbody>\n",
       "    <tr>\n",
       "      <th>Actual 0</th>\n",
       "      <td>2762</td>\n",
       "      <td>460</td>\n",
       "    </tr>\n",
       "    <tr>\n",
       "      <th>Actual 1</th>\n",
       "      <td>981</td>\n",
       "      <td>1077</td>\n",
       "    </tr>\n",
       "  </tbody>\n",
       "</table>\n",
       "</div>"
      ],
      "text/plain": [
       "          Predicted 0  Predicted 1\n",
       "Actual 0         2762          460\n",
       "Actual 1          981         1077"
      ]
     },
     "execution_count": 872,
     "metadata": {},
     "output_type": "execute_result"
    }
   ],
   "source": [
    "pd.DataFrame(confusion_matrix(y_test,pred_test),index=['Actual 0','Actual 1'],columns=['Predicted 0','Predicted 1'])"
   ]
  },
  {
   "cell_type": "code",
   "execution_count": 874,
   "metadata": {},
   "outputs": [
    {
     "name": "stdout",
     "output_type": "stream",
     "text": [
      "0.5233236151603499\n",
      "0.8572315332091869\n",
      "0.7270833333333333\n"
     ]
    }
   ],
   "source": [
    "tn, fp, fn, tp = confusion_matrix(y_test,pred_test).ravel()\n",
    "\n",
    "Sensitivity = tp/(tp+fn)\n",
    "Specificity = tn/(tn+fp)\n",
    "print(Sensitivity)\n",
    "print(Specificity)\n",
    "print(accuracy_score(y_test,pred_test))"
   ]
  },
  {
   "cell_type": "code",
   "execution_count": 875,
   "metadata": {},
   "outputs": [
    {
     "data": {
      "image/png": "[encoded data removed]",
      "text/plain": [
       "<Figure size 432x288 with 1 Axes>"
      ]
     },
     "metadata": {
      "needs_background": "light"
     },
     "output_type": "display_data"
    }
   ],
   "source": [
    "fpr_train1, tpr_train1, thresholds_train1 = metrics.roc_curve(y_train, pred_proba,pos_label=1)\n",
    "fpr_test1, tpr_test1, thresholds_test1 = metrics.roc_curve(y_test, class_pred_test,pos_label=1)\n",
    "roc_auc_train1 = metrics.auc(fpr_train1, tpr_train1)\n",
    "roc_auc_test1 = metrics.auc(fpr_test1, tpr_test1)\n",
    "plt.plot(fpr_train1,tpr_train1,label='ROC curve (area = %0.2f) on training data' % roc_auc_train1)\n",
    "plt.plot(fpr_test1,tpr_test1,label='ROC curve (area = %0.2f) on test data' % roc_auc_test1)\n",
    "plt.plot([0, 1], [0, 1], color='navy', linestyle='--')\n",
    "plt.xlim([0.0, 1.0])\n",
    "plt.ylim([0.0, 1.05])\n",
    "plt.xlabel('False Positive Rate')\n",
    "plt.ylabel('True Positive Rate')\n",
    "plt.title('ROC Curve Training Data Vs Test Data ')\n",
    "plt.legend(loc=\"lower right\")\n",
    "plt.show()"
   ]
  },
  {
   "cell_type": "markdown",
   "metadata": {},
   "source": [
    "### Experimentation 3 "
   ]
  },
  {
   "cell_type": "code",
   "execution_count": 1081,
   "metadata": {},
   "outputs": [
    {
     "name": "stderr",
     "output_type": "stream",
     "text": [
      "c:\\users\\aashe\\appdata\\local\\programs\\python\\python37-32\\lib\\site-packages\\sklearn\\preprocessing\\data.py:617: DataConversionWarning: Data with input dtype int64, float64 were all converted to float64 by StandardScaler.\n",
      "  return self.partial_fit(X, y)\n",
      "c:\\users\\aashe\\appdata\\local\\programs\\python\\python37-32\\lib\\site-packages\\sklearn\\base.py:462: DataConversionWarning: Data with input dtype int64, float64 were all converted to float64 by StandardScaler.\n",
      "  return self.fit(X, **fit_params).transform(X)\n",
      "c:\\users\\aashe\\appdata\\local\\programs\\python\\python37-32\\lib\\site-packages\\ipykernel_launcher.py:9: SettingWithCopyWarning: \n",
      "A value is trying to be set on a copy of a slice from a DataFrame.\n",
      "Try using .loc[row_indexer,col_indexer] = value instead\n",
      "\n",
      "See the caveats in the documentation: http://pandas.pydata.org/pandas-docs/stable/indexing.html#indexing-view-versus-copy\n",
      "  if __name__ == '__main__':\n"
     ]
    }
   ],
   "source": [
    "random.seed(1)\n",
    "random_features=random.sample(range(27), 10)\n",
    "\n",
    "df=pd.read_csv(\"energydata_complete.csv\")\n",
    "df=df.drop(columns = ['date'])\n",
    "df_no_outliers = outlier(df) ###Outlier Removal\n",
    "df_scaled = feature_scaling(df_no_outliers)  ###Normalisation of features\n",
    "\n",
    "df_no_outliers['Appliances_class'] = [0 if x <= 60 else 1 for x in df_no_outliers['Appliances']]\n",
    "df_logistic = df_scaled.drop(columns = ['Appliances'])\n",
    "\n",
    "x_random = df_logistic.iloc[:,random_features]\n",
    "y=df_no_outliers['Appliances_class']\n",
    "\n",
    "X_train3, X_test3, y_train, y_test = train_test_split(x_random, y, test_size=0.3,random_state=1)\n",
    "cf_dict,beta_dict,pred_proba = GD_Logistic(X_train3, X_test3, y_train, y_test,3)"
   ]
  },
  {
   "cell_type": "code",
   "execution_count": 1002,
   "metadata": {},
   "outputs": [
    {
     "data": {
      "text/plain": [
       "Index(['RH_2', 'RH_9', 'Tdewpoint', 'RH_1', 'RH_4', 'T2', 'T8', 'RH_7',\n",
       "       'Press_mm_hg', 'RH_6'],\n",
       "      dtype='object')"
      ]
     },
     "execution_count": 1002,
     "metadata": {},
     "output_type": "execute_result"
    }
   ],
   "source": [
    "X_train3.columns"
   ]
  },
  {
   "cell_type": "markdown",
   "metadata": {},
   "source": [
    "### Exp 3 - Predicting the classes based on probabilties on Training Data "
   ]
  },
  {
   "cell_type": "code",
   "execution_count": 1003,
   "metadata": {},
   "outputs": [
    {
     "data": {
      "text/plain": [
       "0    9021\n",
       "1    3296\n",
       "dtype: int64"
      ]
     },
     "execution_count": 1003,
     "metadata": {},
     "output_type": "execute_result"
    }
   ],
   "source": [
    "pred_class3 = [0 if i<=0.5 else 1 for i in pred_proba[0.01]]\n",
    "pred_class3=pd.Series(pred_class3)\n",
    "pred_class3.value_counts()"
   ]
  },
  {
   "cell_type": "markdown",
   "metadata": {},
   "source": [
    "### Exp 3 - Confusion Matrix on Training Data"
   ]
  },
  {
   "cell_type": "code",
   "execution_count": 1004,
   "metadata": {},
   "outputs": [
    {
     "data": {
      "text/html": [
       "<div>\n",
       "<style scoped>\n",
       "    .dataframe tbody tr th:only-of-type {\n",
       "        vertical-align: middle;\n",
       "    }\n",
       "\n",
       "    .dataframe tbody tr th {\n",
       "        vertical-align: top;\n",
       "    }\n",
       "\n",
       "    .dataframe thead th {\n",
       "        text-align: right;\n",
       "    }\n",
       "</style>\n",
       "<table border=\"1\" class=\"dataframe\">\n",
       "  <thead>\n",
       "    <tr style=\"text-align: right;\">\n",
       "      <th></th>\n",
       "      <th>Predicted 0</th>\n",
       "      <th>Predicted 1</th>\n",
       "    </tr>\n",
       "  </thead>\n",
       "  <tbody>\n",
       "    <tr>\n",
       "      <th>Actual 0</th>\n",
       "      <td>6465</td>\n",
       "      <td>1057</td>\n",
       "    </tr>\n",
       "    <tr>\n",
       "      <th>Actual 1</th>\n",
       "      <td>2556</td>\n",
       "      <td>2239</td>\n",
       "    </tr>\n",
       "  </tbody>\n",
       "</table>\n",
       "</div>"
      ],
      "text/plain": [
       "          Predicted 0  Predicted 1\n",
       "Actual 0         6465         1057\n",
       "Actual 1         2556         2239"
      ]
     },
     "execution_count": 1004,
     "metadata": {},
     "output_type": "execute_result"
    }
   ],
   "source": [
    "pd.DataFrame(confusion_matrix(y_train,pred_class3),index=['Actual 0','Actual 1'],columns=['Predicted 0','Predicted 1'])"
   ]
  },
  {
   "cell_type": "code",
   "execution_count": 1010,
   "metadata": {},
   "outputs": [
    {
     "name": "stdout",
     "output_type": "stream",
     "text": [
      "0.4669447340980188\n",
      "0.859478862004786\n",
      "\n",
      "0.7066655841519851\n"
     ]
    }
   ],
   "source": [
    "tn, fp, fn, tp = confusion_matrix(y_train,pred_class3).ravel()\n",
    "Sensitivity = tp/(tp+fn)\n",
    "Specificity = tn/(tn+fp)\n",
    "print(Sensitivity)\n",
    "print(Specificity)\n",
    "print()\n",
    "print(accuracy_score(y_train,pred_class3))"
   ]
  },
  {
   "cell_type": "markdown",
   "metadata": {},
   "source": [
    "### Testing Data"
   ]
  },
  {
   "cell_type": "code",
   "execution_count": 1006,
   "metadata": {},
   "outputs": [
    {
     "name": "stdout",
     "output_type": "stream",
     "text": [
      "0.25253658572441856\n"
     ]
    },
    {
     "data": {
      "text/html": [
       "<div>\n",
       "<style scoped>\n",
       "    .dataframe tbody tr th:only-of-type {\n",
       "        vertical-align: middle;\n",
       "    }\n",
       "\n",
       "    .dataframe tbody tr th {\n",
       "        vertical-align: top;\n",
       "    }\n",
       "\n",
       "    .dataframe thead th {\n",
       "        text-align: right;\n",
       "    }\n",
       "</style>\n",
       "<table border=\"1\" class=\"dataframe\">\n",
       "  <thead>\n",
       "    <tr style=\"text-align: right;\">\n",
       "      <th></th>\n",
       "      <th>Predicted 0</th>\n",
       "      <th>Predicted 1</th>\n",
       "    </tr>\n",
       "  </thead>\n",
       "  <tbody>\n",
       "    <tr>\n",
       "      <th>Actual 0</th>\n",
       "      <td>2787</td>\n",
       "      <td>435</td>\n",
       "    </tr>\n",
       "    <tr>\n",
       "      <th>Actual 1</th>\n",
       "      <td>1103</td>\n",
       "      <td>955</td>\n",
       "    </tr>\n",
       "  </tbody>\n",
       "</table>\n",
       "</div>"
      ],
      "text/plain": [
       "          Predicted 0  Predicted 1\n",
       "Actual 0         2787          435\n",
       "Actual 1         1103          955"
      ]
     },
     "execution_count": 1006,
     "metadata": {},
     "output_type": "execute_result"
    }
   ],
   "source": [
    "beta=beta_dict[0.01]\n",
    "xt=X_test3.values.transpose()\n",
    "class_pred_test = predict(beta,xt)\n",
    "test_cf = -(cost_function(class_pred_test,y_test))/m\n",
    "print(test_cf)\n",
    "\n",
    "pred_test = [0 if i<=0.5 else 1 for i in class_pred_test]\n",
    "pred_test=pd.Series(pred_test)\n",
    "\n",
    "pd.DataFrame(confusion_matrix(y_test,pred_test),index=['Actual 0','Actual 1'],columns=['Predicted 0','Predicted 1'])"
   ]
  },
  {
   "cell_type": "code",
   "execution_count": 1007,
   "metadata": {},
   "outputs": [
    {
     "name": "stdout",
     "output_type": "stream",
     "text": [
      "0.4640427599611273\n",
      "0.8649906890130353\n",
      "\n",
      "0.7087121212121212\n"
     ]
    }
   ],
   "source": [
    "tn, fp, fn, tp = confusion_matrix(y_test,pred_test).ravel()\n",
    "\n",
    "Sensitivity = tp/(tp+fn)\n",
    "Specificity = tn/(tn+fp)\n",
    "print(Sensitivity)\n",
    "print(Specificity)\n",
    "print()\n",
    "print(accuracy_score(y_test,pred_test))"
   ]
  },
  {
   "cell_type": "markdown",
   "metadata": {},
   "source": [
    "### ROC Curves"
   ]
  },
  {
   "cell_type": "code",
   "execution_count": 1011,
   "metadata": {},
   "outputs": [
    {
     "data": {
      "image/png": "[encoded data removed]",
      "text/plain": [
       "<Figure size 432x288 with 1 Axes>"
      ]
     },
     "metadata": {
      "needs_background": "light"
     },
     "output_type": "display_data"
    }
   ],
   "source": [
    "fpr_train3, tpr_train3, thresholds_train3 = metrics.roc_curve(y_train, pred_proba[0.01],pos_label=1)\n",
    "roc_auc_train3 = metrics.auc(fpr_train3, tpr_train3)\n",
    "plt.plot(fpr_train1,tpr_train1,label='ROC curve - Full Model (area = %0.2f)' % roc_auc_train1)\n",
    "plt.plot(fpr_train3,tpr_train3,label='ROC curve - Random 10 (area = %0.2f)' % roc_auc_train3)\n",
    "plt.plot([0, 1], [0, 1], color='navy', linestyle='--')\n",
    "plt.xlim([0.0, 1.0])\n",
    "plt.ylim([0.0, 1.05])\n",
    "plt.xlabel('False Positive Rate')\n",
    "plt.ylabel('True Positive Rate')\n",
    "plt.title('\\nROC Curve on Training Data with Full Model Vs Random 10 Model\\n')\n",
    "plt.legend(loc=\"lower right\")\n",
    "plt.show()"
   ]
  },
  {
   "cell_type": "code",
   "execution_count": 1013,
   "metadata": {},
   "outputs": [
    {
     "data": {
      "image/png": "[encoded data removed]",
      "text/plain": [
       "<Figure size 432x288 with 1 Axes>"
      ]
     },
     "metadata": {
      "needs_background": "light"
     },
     "output_type": "display_data"
    }
   ],
   "source": [
    "fpr_test3, tpr_test3, thresholds_test3 = metrics.roc_curve(y_train, pred_proba[0.01],pos_label=1)\n",
    "roc_auc_test3 = metrics.auc(fpr_test3, tpr_test3)\n",
    "plt.plot(fpr_train1,tpr_train1,label='ROC curve - Full Model (area = %0.2f)' % roc_auc_test1)\n",
    "plt.plot(fpr_test3,tpr_test3,label='ROC curve - Random 10 (area = %0.2f)' % roc_auc_test3)\n",
    "plt.plot([0, 1], [0, 1], color='navy', linestyle='--')\n",
    "plt.xlim([0.0, 1.0])\n",
    "plt.ylim([0.0, 1.05])\n",
    "plt.xlabel('False Positive Rate')\n",
    "plt.ylabel('True Positive Rate')\n",
    "plt.title('\\nROC Curve on Test Data with Full Model and Random 10 Model\\n')\n",
    "plt.legend(loc=\"lower right\")\n",
    "plt.show()"
   ]
  },
  {
   "cell_type": "markdown",
   "metadata": {},
   "source": [
    "### Experimentation 4 - Selecting the best 10 Features"
   ]
  },
  {
   "cell_type": "code",
   "execution_count": 1137,
   "metadata": {},
   "outputs": [
    {
     "data": {
      "text/html": [
       "<div>\n",
       "<style scoped>\n",
       "    .dataframe tbody tr th:only-of-type {\n",
       "        vertical-align: middle;\n",
       "    }\n",
       "\n",
       "    .dataframe tbody tr th {\n",
       "        vertical-align: top;\n",
       "    }\n",
       "\n",
       "    .dataframe thead th {\n",
       "        text-align: right;\n",
       "    }\n",
       "</style>\n",
       "<table border=\"1\" class=\"dataframe\">\n",
       "  <thead>\n",
       "    <tr style=\"text-align: right;\">\n",
       "      <th></th>\n",
       "      <th>Appliances</th>\n",
       "    </tr>\n",
       "  </thead>\n",
       "  <tbody>\n",
       "    <tr>\n",
       "      <th>Appliances</th>\n",
       "      <td>1.000000</td>\n",
       "    </tr>\n",
       "    <tr>\n",
       "      <th>lights</th>\n",
       "      <td>0.291109</td>\n",
       "    </tr>\n",
       "    <tr>\n",
       "      <th>T8</th>\n",
       "      <td>0.268293</td>\n",
       "    </tr>\n",
       "    <tr>\n",
       "      <th>T2</th>\n",
       "      <td>0.264739</td>\n",
       "    </tr>\n",
       "    <tr>\n",
       "      <th>RH_out</th>\n",
       "      <td>0.252696</td>\n",
       "    </tr>\n",
       "    <tr>\n",
       "      <th>T1</th>\n",
       "      <td>0.248221</td>\n",
       "    </tr>\n",
       "    <tr>\n",
       "      <th>RH_6</th>\n",
       "      <td>0.240142</td>\n",
       "    </tr>\n",
       "    <tr>\n",
       "      <th>T6</th>\n",
       "      <td>0.223875</td>\n",
       "    </tr>\n",
       "    <tr>\n",
       "      <th>RH_8</th>\n",
       "      <td>0.218639</td>\n",
       "    </tr>\n",
       "    <tr>\n",
       "      <th>T_out</th>\n",
       "      <td>0.213651</td>\n",
       "    </tr>\n",
       "    <tr>\n",
       "      <th>RH_9</th>\n",
       "      <td>0.201968</td>\n",
       "    </tr>\n",
       "    <tr>\n",
       "      <th>T4</th>\n",
       "      <td>0.195689</td>\n",
       "    </tr>\n",
       "    <tr>\n",
       "      <th>T5</th>\n",
       "      <td>0.191782</td>\n",
       "    </tr>\n",
       "    <tr>\n",
       "      <th>T3</th>\n",
       "      <td>0.180061</td>\n",
       "    </tr>\n",
       "    <tr>\n",
       "      <th>T7</th>\n",
       "      <td>0.175519</td>\n",
       "    </tr>\n",
       "    <tr>\n",
       "      <th>T9</th>\n",
       "      <td>0.154471</td>\n",
       "    </tr>\n",
       "    <tr>\n",
       "      <th>RH_7</th>\n",
       "      <td>0.128740</td>\n",
       "    </tr>\n",
       "    <tr>\n",
       "      <th>RH_2</th>\n",
       "      <td>0.109746</td>\n",
       "    </tr>\n",
       "    <tr>\n",
       "      <th>Press_mm_hg</th>\n",
       "      <td>0.089829</td>\n",
       "    </tr>\n",
       "    <tr>\n",
       "      <th>RH_3</th>\n",
       "      <td>0.088410</td>\n",
       "    </tr>\n",
       "    <tr>\n",
       "      <th>Tdewpoint</th>\n",
       "      <td>0.081550</td>\n",
       "    </tr>\n",
       "    <tr>\n",
       "      <th>RH_5</th>\n",
       "      <td>0.072040</td>\n",
       "    </tr>\n",
       "    <tr>\n",
       "      <th>Windspeed</th>\n",
       "      <td>0.055363</td>\n",
       "    </tr>\n",
       "    <tr>\n",
       "      <th>RH_1</th>\n",
       "      <td>0.045596</td>\n",
       "    </tr>\n",
       "    <tr>\n",
       "      <th>RH_4</th>\n",
       "      <td>0.036932</td>\n",
       "    </tr>\n",
       "    <tr>\n",
       "      <th>Visibility</th>\n",
       "      <td>0.024974</td>\n",
       "    </tr>\n",
       "    <tr>\n",
       "      <th>rv1</th>\n",
       "      <td>0.009986</td>\n",
       "    </tr>\n",
       "    <tr>\n",
       "      <th>rv2</th>\n",
       "      <td>0.009986</td>\n",
       "    </tr>\n",
       "  </tbody>\n",
       "</table>\n",
       "</div>"
      ],
      "text/plain": [
       "             Appliances\n",
       "Appliances     1.000000\n",
       "lights         0.291109\n",
       "T8             0.268293\n",
       "T2             0.264739\n",
       "RH_out         0.252696\n",
       "T1             0.248221\n",
       "RH_6           0.240142\n",
       "T6             0.223875\n",
       "RH_8           0.218639\n",
       "T_out          0.213651\n",
       "RH_9           0.201968\n",
       "T4             0.195689\n",
       "T5             0.191782\n",
       "T3             0.180061\n",
       "T7             0.175519\n",
       "T9             0.154471\n",
       "RH_7           0.128740\n",
       "RH_2           0.109746\n",
       "Press_mm_hg    0.089829\n",
       "RH_3           0.088410\n",
       "Tdewpoint      0.081550\n",
       "RH_5           0.072040\n",
       "Windspeed      0.055363\n",
       "RH_1           0.045596\n",
       "RH_4           0.036932\n",
       "Visibility     0.024974\n",
       "rv1            0.009986\n",
       "rv2            0.009986"
      ]
     },
     "execution_count": 1137,
     "metadata": {},
     "output_type": "execute_result"
    }
   ],
   "source": [
    "best_features=pd.DataFrame(df_no_outliers.corr()['Appliances']).abs()\n",
    "best_features.sort_values(by=['Appliances'],ascending=False)"
   ]
  },
  {
   "cell_type": "code",
   "execution_count": 1015,
   "metadata": {},
   "outputs": [
    {
     "data": {
      "text/html": [
       "<div>\n",
       "<style scoped>\n",
       "    .dataframe tbody tr th:only-of-type {\n",
       "        vertical-align: middle;\n",
       "    }\n",
       "\n",
       "    .dataframe tbody tr th {\n",
       "        vertical-align: top;\n",
       "    }\n",
       "\n",
       "    .dataframe thead th {\n",
       "        text-align: right;\n",
       "    }\n",
       "</style>\n",
       "<table border=\"1\" class=\"dataframe\">\n",
       "  <thead>\n",
       "    <tr style=\"text-align: right;\">\n",
       "      <th></th>\n",
       "      <th>Appliances</th>\n",
       "      <th>lights</th>\n",
       "      <th>T1</th>\n",
       "      <th>RH_1</th>\n",
       "      <th>T2</th>\n",
       "      <th>RH_2</th>\n",
       "      <th>T3</th>\n",
       "      <th>RH_3</th>\n",
       "      <th>T4</th>\n",
       "      <th>RH_4</th>\n",
       "      <th>...</th>\n",
       "      <th>RH_9</th>\n",
       "      <th>T_out</th>\n",
       "      <th>Press_mm_hg</th>\n",
       "      <th>RH_out</th>\n",
       "      <th>Windspeed</th>\n",
       "      <th>Visibility</th>\n",
       "      <th>Tdewpoint</th>\n",
       "      <th>rv1</th>\n",
       "      <th>rv2</th>\n",
       "      <th>Appliances_class</th>\n",
       "    </tr>\n",
       "  </thead>\n",
       "  <tbody>\n",
       "    <tr>\n",
       "      <th>0</th>\n",
       "      <td>60</td>\n",
       "      <td>30</td>\n",
       "      <td>19.89</td>\n",
       "      <td>47.596667</td>\n",
       "      <td>19.2</td>\n",
       "      <td>44.790000</td>\n",
       "      <td>19.79</td>\n",
       "      <td>44.730000</td>\n",
       "      <td>19.000000</td>\n",
       "      <td>45.566667</td>\n",
       "      <td>...</td>\n",
       "      <td>45.53</td>\n",
       "      <td>6.600000</td>\n",
       "      <td>733.5</td>\n",
       "      <td>92.0</td>\n",
       "      <td>7.000000</td>\n",
       "      <td>63.000000</td>\n",
       "      <td>5.3</td>\n",
       "      <td>13.275433</td>\n",
       "      <td>13.275433</td>\n",
       "      <td>0</td>\n",
       "    </tr>\n",
       "    <tr>\n",
       "      <th>1</th>\n",
       "      <td>60</td>\n",
       "      <td>30</td>\n",
       "      <td>19.89</td>\n",
       "      <td>46.693333</td>\n",
       "      <td>19.2</td>\n",
       "      <td>44.722500</td>\n",
       "      <td>19.79</td>\n",
       "      <td>44.790000</td>\n",
       "      <td>19.000000</td>\n",
       "      <td>45.992500</td>\n",
       "      <td>...</td>\n",
       "      <td>45.56</td>\n",
       "      <td>6.483333</td>\n",
       "      <td>733.6</td>\n",
       "      <td>92.0</td>\n",
       "      <td>6.666667</td>\n",
       "      <td>59.166667</td>\n",
       "      <td>5.2</td>\n",
       "      <td>18.606195</td>\n",
       "      <td>18.606195</td>\n",
       "      <td>0</td>\n",
       "    </tr>\n",
       "    <tr>\n",
       "      <th>2</th>\n",
       "      <td>50</td>\n",
       "      <td>30</td>\n",
       "      <td>19.89</td>\n",
       "      <td>46.300000</td>\n",
       "      <td>19.2</td>\n",
       "      <td>44.626667</td>\n",
       "      <td>19.79</td>\n",
       "      <td>44.933333</td>\n",
       "      <td>18.926667</td>\n",
       "      <td>45.890000</td>\n",
       "      <td>...</td>\n",
       "      <td>45.50</td>\n",
       "      <td>6.366667</td>\n",
       "      <td>733.7</td>\n",
       "      <td>92.0</td>\n",
       "      <td>6.333333</td>\n",
       "      <td>55.333333</td>\n",
       "      <td>5.1</td>\n",
       "      <td>28.642668</td>\n",
       "      <td>28.642668</td>\n",
       "      <td>0</td>\n",
       "    </tr>\n",
       "    <tr>\n",
       "      <th>3</th>\n",
       "      <td>50</td>\n",
       "      <td>40</td>\n",
       "      <td>19.89</td>\n",
       "      <td>46.066667</td>\n",
       "      <td>19.2</td>\n",
       "      <td>44.590000</td>\n",
       "      <td>19.79</td>\n",
       "      <td>45.000000</td>\n",
       "      <td>18.890000</td>\n",
       "      <td>45.723333</td>\n",
       "      <td>...</td>\n",
       "      <td>45.40</td>\n",
       "      <td>6.250000</td>\n",
       "      <td>733.8</td>\n",
       "      <td>92.0</td>\n",
       "      <td>6.000000</td>\n",
       "      <td>51.500000</td>\n",
       "      <td>5.0</td>\n",
       "      <td>45.410389</td>\n",
       "      <td>45.410389</td>\n",
       "      <td>0</td>\n",
       "    </tr>\n",
       "    <tr>\n",
       "      <th>4</th>\n",
       "      <td>60</td>\n",
       "      <td>40</td>\n",
       "      <td>19.89</td>\n",
       "      <td>46.333333</td>\n",
       "      <td>19.2</td>\n",
       "      <td>44.530000</td>\n",
       "      <td>19.79</td>\n",
       "      <td>45.000000</td>\n",
       "      <td>18.890000</td>\n",
       "      <td>45.530000</td>\n",
       "      <td>...</td>\n",
       "      <td>45.40</td>\n",
       "      <td>6.133333</td>\n",
       "      <td>733.9</td>\n",
       "      <td>92.0</td>\n",
       "      <td>5.666667</td>\n",
       "      <td>47.666667</td>\n",
       "      <td>4.9</td>\n",
       "      <td>10.084097</td>\n",
       "      <td>10.084097</td>\n",
       "      <td>0</td>\n",
       "    </tr>\n",
       "  </tbody>\n",
       "</table>\n",
       "<p>5 rows × 29 columns</p>\n",
       "</div>"
      ],
      "text/plain": [
       "   Appliances  lights     T1       RH_1    T2       RH_2     T3       RH_3  \\\n",
       "0          60      30  19.89  47.596667  19.2  44.790000  19.79  44.730000   \n",
       "1          60      30  19.89  46.693333  19.2  44.722500  19.79  44.790000   \n",
       "2          50      30  19.89  46.300000  19.2  44.626667  19.79  44.933333   \n",
       "3          50      40  19.89  46.066667  19.2  44.590000  19.79  45.000000   \n",
       "4          60      40  19.89  46.333333  19.2  44.530000  19.79  45.000000   \n",
       "\n",
       "          T4       RH_4        ...          RH_9     T_out  Press_mm_hg  \\\n",
       "0  19.000000  45.566667        ...         45.53  6.600000        733.5   \n",
       "1  19.000000  45.992500        ...         45.56  6.483333        733.6   \n",
       "2  18.926667  45.890000        ...         45.50  6.366667        733.7   \n",
       "3  18.890000  45.723333        ...         45.40  6.250000        733.8   \n",
       "4  18.890000  45.530000        ...         45.40  6.133333        733.9   \n",
       "\n",
       "   RH_out  Windspeed  Visibility  Tdewpoint        rv1        rv2  \\\n",
       "0    92.0   7.000000   63.000000        5.3  13.275433  13.275433   \n",
       "1    92.0   6.666667   59.166667        5.2  18.606195  18.606195   \n",
       "2    92.0   6.333333   55.333333        5.1  28.642668  28.642668   \n",
       "3    92.0   6.000000   51.500000        5.0  45.410389  45.410389   \n",
       "4    92.0   5.666667   47.666667        4.9  10.084097  10.084097   \n",
       "\n",
       "   Appliances_class  \n",
       "0                 0  \n",
       "1                 0  \n",
       "2                 0  \n",
       "3                 0  \n",
       "4                 0  \n",
       "\n",
       "[5 rows x 29 columns]"
      ]
     },
     "execution_count": 1015,
     "metadata": {},
     "output_type": "execute_result"
    }
   ],
   "source": [
    "df_no_outliers.head()"
   ]
  },
  {
   "cell_type": "code",
   "execution_count": 1134,
   "metadata": {},
   "outputs": [
    {
     "name": "stderr",
     "output_type": "stream",
     "text": [
      "c:\\users\\aashe\\appdata\\local\\programs\\python\\python37-32\\lib\\site-packages\\sklearn\\preprocessing\\data.py:617: DataConversionWarning: Data with input dtype int64, float64 were all converted to float64 by StandardScaler.\n",
      "  return self.partial_fit(X, y)\n",
      "c:\\users\\aashe\\appdata\\local\\programs\\python\\python37-32\\lib\\site-packages\\sklearn\\base.py:462: DataConversionWarning: Data with input dtype int64, float64 were all converted to float64 by StandardScaler.\n",
      "  return self.fit(X, **fit_params).transform(X)\n"
     ]
    }
   ],
   "source": [
    "df=pd.read_csv(\"energydata_complete.csv\")\n",
    "df_best_features = df.drop(columns =['date','lights','T3','T_out','rv1','rv2','RH_4','T4','T7','RH_7','T5','Press_mm_hg','RH_3','Tdewpoint','RH_5','Windspeed','RH_1','Visibility'])\n",
    "df_best_no_outliers = outlier(df_best_features)\n",
    "df_best_features = feature_scaling(df_best_no_outliers)\n",
    "\n",
    "x=df_best_features.iloc[:,1:]\n",
    "y=df_best_no_outliers['Appliances']\n",
    "X_train, X_test, y_train, y_test = train_test_split(x, y, test_size=0.3,random_state=1)\n",
    "\n",
    "beta_dict,cf_dict,mse_train,mae_train,r_squared = GD_Linear(X_train, X_test, y_train, y_test,4)"
   ]
  },
  {
   "cell_type": "code",
   "execution_count": 1135,
   "metadata": {},
   "outputs": [],
   "source": [
    "for alpha in [0.01]:\n",
    "    cf_final = min(cf_dict[alpha])\n",
    "    mse_final = min(mse_train[alpha])\n",
    "    r2_final = max(r_squared[alpha])"
   ]
  },
  {
   "cell_type": "code",
   "execution_count": 1136,
   "metadata": {},
   "outputs": [
    {
     "name": "stderr",
     "output_type": "stream",
     "text": [
      "c:\\users\\aashe\\appdata\\local\\programs\\python\\python37-32\\lib\\site-packages\\ipykernel_launcher.py:16: FutureWarning: Sorting because non-concatenation axis is not aligned. A future version\n",
      "of pandas will change to not sort by default.\n",
      "\n",
      "To accept the future behavior, pass 'sort=False'.\n",
      "\n",
      "To retain the current behavior and silence the warning, pass 'sort=True'.\n",
      "\n",
      "  app.launch_new_instance()\n"
     ]
    },
    {
     "data": {
      "text/html": [
       "<div>\n",
       "<style scoped>\n",
       "    .dataframe tbody tr th:only-of-type {\n",
       "        vertical-align: middle;\n",
       "    }\n",
       "\n",
       "    .dataframe tbody tr th {\n",
       "        vertical-align: top;\n",
       "    }\n",
       "\n",
       "    .dataframe thead th {\n",
       "        text-align: right;\n",
       "    }\n",
       "</style>\n",
       "<table border=\"1\" class=\"dataframe\">\n",
       "  <thead>\n",
       "    <tr style=\"text-align: right;\">\n",
       "      <th></th>\n",
       "      <th>CF_Test</th>\n",
       "      <th>CF_Train</th>\n",
       "      <th>MSE_Test</th>\n",
       "      <th>MSE_Train</th>\n",
       "      <th>R2_Test</th>\n",
       "      <th>R2_Train</th>\n",
       "    </tr>\n",
       "  </thead>\n",
       "  <tbody>\n",
       "    <tr>\n",
       "      <th>Random 10</th>\n",
       "      <td>338.3284</td>\n",
       "      <td>328.2843</td>\n",
       "      <td>676.6569</td>\n",
       "      <td>656.5687</td>\n",
       "      <td>0.1738</td>\n",
       "      <td>0.1871</td>\n",
       "    </tr>\n",
       "    <tr>\n",
       "      <th>Best 10</th>\n",
       "      <td>315.4028</td>\n",
       "      <td>304.4411</td>\n",
       "      <td>630.8057</td>\n",
       "      <td>608.8821</td>\n",
       "      <td>0.2298</td>\n",
       "      <td>0.2462</td>\n",
       "    </tr>\n",
       "    <tr>\n",
       "      <th>Full Model</th>\n",
       "      <td>295.7512</td>\n",
       "      <td>284.1783</td>\n",
       "      <td>591.5025</td>\n",
       "      <td>568.3566</td>\n",
       "      <td>0.2778</td>\n",
       "      <td>0.2963</td>\n",
       "    </tr>\n",
       "  </tbody>\n",
       "</table>\n",
       "</div>"
      ],
      "text/plain": [
       "             CF_Test  CF_Train  MSE_Test  MSE_Train  R2_Test  R2_Train\n",
       "Random 10   338.3284  328.2843  676.6569   656.5687   0.1738    0.1871\n",
       "Best 10     315.4028  304.4411  630.8057   608.8821   0.2298    0.2462\n",
       "Full Model  295.7512  284.1783  591.5025   568.3566   0.2778    0.2963"
      ]
     },
     "execution_count": 1136,
     "metadata": {},
     "output_type": "execute_result"
    }
   ],
   "source": [
    "train_metrics4=pd.DataFrame([cf_final, mse_final,r2_final],index=['CF_Train','MSE_Train','R2_Train'],columns=['Best 10']).T\n",
    "\n",
    "xt_test = X_test.values.transpose()\n",
    "rows_test = X_test.shape[0]\n",
    "cf_test = {}\n",
    "mse_test = {}\n",
    "r2_test = {}\n",
    "for alpha in [0.01]:\n",
    "    beta = beta_dict[alpha]\n",
    "    pred_test = beta[0]+np.dot(beta[1:],xt_test)\n",
    "    cf_test,mse_test,mae_test,r2_test = calculate_metrics(y_test,pred_test,rows_test)\n",
    "    \n",
    "test_metrics4 = pd.DataFrame([cf_test, mse_test,r2_test],index=['CF_Test','MSE_Test','R2_Test'],columns=['Best 10']).T\n",
    "metrics4=pd.concat([train_metrics4,test_metrics4],axis=1)\n",
    "\n",
    "pd.concat([metrics3,metrics4,full_model_metrics],axis=0)"
   ]
  },
  {
   "cell_type": "markdown",
   "metadata": {},
   "source": [
    "### Experimentation 4 - Logistic Regression"
   ]
  },
  {
   "cell_type": "code",
   "execution_count": 1089,
   "metadata": {},
   "outputs": [
    {
     "name": "stderr",
     "output_type": "stream",
     "text": [
      "c:\\users\\aashe\\appdata\\local\\programs\\python\\python37-32\\lib\\site-packages\\sklearn\\preprocessing\\data.py:617: DataConversionWarning: Data with input dtype int64, float64 were all converted to float64 by StandardScaler.\n",
      "  return self.partial_fit(X, y)\n",
      "c:\\users\\aashe\\appdata\\local\\programs\\python\\python37-32\\lib\\site-packages\\sklearn\\base.py:462: DataConversionWarning: Data with input dtype int64, float64 were all converted to float64 by StandardScaler.\n",
      "  return self.fit(X, **fit_params).transform(X)\n",
      "c:\\users\\aashe\\appdata\\local\\programs\\python\\python37-32\\lib\\site-packages\\ipykernel_launcher.py:6: SettingWithCopyWarning: \n",
      "A value is trying to be set on a copy of a slice from a DataFrame.\n",
      "Try using .loc[row_indexer,col_indexer] = value instead\n",
      "\n",
      "See the caveats in the documentation: http://pandas.pydata.org/pandas-docs/stable/indexing.html#indexing-view-versus-copy\n",
      "  \n"
     ]
    }
   ],
   "source": [
    "df=pd.read_csv(\"energydata_complete.csv\")\n",
    "df=df.drop(columns = ['date'])\n",
    "df_no_outliers = outlier(df) ###Outlier Removal\n",
    "df_scaled = feature_scaling(df_no_outliers)  ###Normalisation of features\n",
    "\n",
    "df_no_outliers['Appliances_class'] = [0 if x <= 60 else 1 for x in df_no_outliers['Appliances']]\n",
    "df_logistic = df_scaled.drop(columns = ['Appliances'])\n",
    "\n",
    "x_best = df_logistic.drop(columns =['lights','T3','T_out','rv1','rv2','RH_4','T4','T7','RH_7','T5','Press_mm_hg','RH_3','Tdewpoint','RH_5','Windspeed','RH_1','Visibility'])\n",
    "y=df_no_outliers['Appliances_class']\n",
    "\n",
    "X_train, X_test, y_train, y_test = train_test_split(x_best, y, test_size=0.3,random_state=1)\n",
    "cf_dict,beta_dict,pred_proba = GD_Logistic(X_train, X_test, y_train, y_test,3)"
   ]
  },
  {
   "cell_type": "code",
   "execution_count": 1117,
   "metadata": {},
   "outputs": [
    {
     "data": {
      "text/plain": [
       "Index(['T1', 'T2', 'RH_2', 'T6', 'RH_6', 'T8', 'RH_8', 'T9', 'RH_9', 'RH_out'], dtype='object')"
      ]
     },
     "execution_count": 1117,
     "metadata": {},
     "output_type": "execute_result"
    }
   ],
   "source": [
    "x_best.columns"
   ]
  },
  {
   "cell_type": "code",
   "execution_count": 1090,
   "metadata": {},
   "outputs": [
    {
     "data": {
      "text/plain": [
       "0    9021\n",
       "1    3296\n",
       "dtype: int64"
      ]
     },
     "execution_count": 1090,
     "metadata": {},
     "output_type": "execute_result"
    }
   ],
   "source": [
    "pred_class4 = [0 if i<=0.5 else 1 for i in pred_proba[0.01]]\n",
    "pred_class4=pd.Series(pred_class4)\n",
    "pred_class4.value_counts()"
   ]
  },
  {
   "cell_type": "code",
   "execution_count": 1091,
   "metadata": {},
   "outputs": [
    {
     "data": {
      "text/html": [
       "<div>\n",
       "<style scoped>\n",
       "    .dataframe tbody tr th:only-of-type {\n",
       "        vertical-align: middle;\n",
       "    }\n",
       "\n",
       "    .dataframe tbody tr th {\n",
       "        vertical-align: top;\n",
       "    }\n",
       "\n",
       "    .dataframe thead th {\n",
       "        text-align: right;\n",
       "    }\n",
       "</style>\n",
       "<table border=\"1\" class=\"dataframe\">\n",
       "  <thead>\n",
       "    <tr style=\"text-align: right;\">\n",
       "      <th></th>\n",
       "      <th>Predicted 0</th>\n",
       "      <th>Predicted 1</th>\n",
       "    </tr>\n",
       "  </thead>\n",
       "  <tbody>\n",
       "    <tr>\n",
       "      <th>Actual 0</th>\n",
       "      <td>6415</td>\n",
       "      <td>1107</td>\n",
       "    </tr>\n",
       "    <tr>\n",
       "      <th>Actual 1</th>\n",
       "      <td>2606</td>\n",
       "      <td>2189</td>\n",
       "    </tr>\n",
       "  </tbody>\n",
       "</table>\n",
       "</div>"
      ],
      "text/plain": [
       "          Predicted 0  Predicted 1\n",
       "Actual 0         6415         1107\n",
       "Actual 1         2606         2189"
      ]
     },
     "execution_count": 1091,
     "metadata": {},
     "output_type": "execute_result"
    }
   ],
   "source": [
    "pd.DataFrame(confusion_matrix(y_train,pred_class4),index=['Actual 0','Actual 1'],columns=['Predicted 0','Predicted 1'])"
   ]
  },
  {
   "cell_type": "code",
   "execution_count": 1092,
   "metadata": {},
   "outputs": [
    {
     "name": "stdout",
     "output_type": "stream",
     "text": [
      "0.4565172054223149\n",
      "0.8528316936984844\n",
      "\n",
      "0.6985467240399448\n"
     ]
    }
   ],
   "source": [
    "tn, fp, fn, tp = confusion_matrix(y_train,pred_class4).ravel()\n",
    "Sensitivity = tp/(tp+fn)\n",
    "Specificity = tn/(tn+fp)\n",
    "print(Sensitivity)\n",
    "print(Specificity)\n",
    "print()\n",
    "print(accuracy_score(y_train,pred_class4))"
   ]
  },
  {
   "cell_type": "code",
   "execution_count": 1093,
   "metadata": {},
   "outputs": [
    {
     "name": "stdout",
     "output_type": "stream",
     "text": [
      "0.2522912723931678\n"
     ]
    },
    {
     "data": {
      "text/html": [
       "<div>\n",
       "<style scoped>\n",
       "    .dataframe tbody tr th:only-of-type {\n",
       "        vertical-align: middle;\n",
       "    }\n",
       "\n",
       "    .dataframe tbody tr th {\n",
       "        vertical-align: top;\n",
       "    }\n",
       "\n",
       "    .dataframe thead th {\n",
       "        text-align: right;\n",
       "    }\n",
       "</style>\n",
       "<table border=\"1\" class=\"dataframe\">\n",
       "  <thead>\n",
       "    <tr style=\"text-align: right;\">\n",
       "      <th></th>\n",
       "      <th>Predicted 0</th>\n",
       "      <th>Predicted 1</th>\n",
       "    </tr>\n",
       "  </thead>\n",
       "  <tbody>\n",
       "    <tr>\n",
       "      <th>Actual 0</th>\n",
       "      <td>2758</td>\n",
       "      <td>464</td>\n",
       "    </tr>\n",
       "    <tr>\n",
       "      <th>Actual 1</th>\n",
       "      <td>1145</td>\n",
       "      <td>913</td>\n",
       "    </tr>\n",
       "  </tbody>\n",
       "</table>\n",
       "</div>"
      ],
      "text/plain": [
       "          Predicted 0  Predicted 1\n",
       "Actual 0         2758          464\n",
       "Actual 1         1145          913"
      ]
     },
     "execution_count": 1093,
     "metadata": {},
     "output_type": "execute_result"
    }
   ],
   "source": [
    "beta=beta_dict[0.01]\n",
    "xt=X_test.values.transpose()\n",
    "class_pred_test = predict(beta,xt)\n",
    "test_cf = -(cost_function(class_pred_test,y_test))/m\n",
    "print(test_cf)\n",
    "\n",
    "pred_test = [0 if i<=0.5 else 1 for i in class_pred_test]\n",
    "pred_test=pd.Series(pred_test)\n",
    "\n",
    "pd.DataFrame(confusion_matrix(y_test,pred_test),index=['Actual 0','Actual 1'],columns=['Predicted 0','Predicted 1'])"
   ]
  },
  {
   "cell_type": "code",
   "execution_count": 1094,
   "metadata": {},
   "outputs": [
    {
     "name": "stdout",
     "output_type": "stream",
     "text": [
      "0.44363459669582117\n",
      "0.8559900682805711\n",
      "\n",
      "0.6952651515151516\n"
     ]
    }
   ],
   "source": [
    "tn, fp, fn, tp = confusion_matrix(y_test,pred_test).ravel()\n",
    "\n",
    "Sensitivity = tp/(tp+fn)\n",
    "Specificity = tn/(tn+fp)\n",
    "print(Sensitivity)\n",
    "print(Specificity)\n",
    "print()\n",
    "print(accuracy_score(y_test,pred_test))"
   ]
  },
  {
   "cell_type": "code",
   "execution_count": 1099,
   "metadata": {},
   "outputs": [
    {
     "data": {
      "image/png": "[encoded data removed]",
      "text/plain": [
       "<Figure size 432x288 with 1 Axes>"
      ]
     },
     "metadata": {
      "needs_background": "light"
     },
     "output_type": "display_data"
    }
   ],
   "source": [
    "fpr_train4, tpr_train4, thresholds_train4 = metrics.roc_curve(y_train, pred_proba[0.01],pos_label=1)\n",
    "roc_auc_train4 = metrics.auc(fpr_train4, tpr_train4)\n",
    "plt.plot(fpr_train1,tpr_train1,label='ROC curve - Full Model (area = %0.2f)' % roc_auc_train1)\n",
    "plt.plot(fpr_train3,tpr_train3,label='ROC curve - Random 10 (area = %0.2f)' % roc_auc_train3)\n",
    "plt.plot(fpr_train4,tpr_train4,label='ROC curve - Best 10 (area = %0.2f)' % roc_auc_train4)\n",
    "plt.plot([0, 1], [0, 1], color='navy', linestyle='--')\n",
    "plt.xlim([0.0, 1.0])\n",
    "plt.ylim([0.0, 1.05])\n",
    "plt.xlabel('False Positive Rate')\n",
    "plt.ylabel('True Positive Rate')\n",
    "plt.title('\\nROC Curve on Training Data with with 3 models\\n')\n",
    "plt.legend(loc=\"lower right\")\n",
    "plt.show()"
   ]
  },
  {
   "cell_type": "code",
   "execution_count": 1100,
   "metadata": {},
   "outputs": [
    {
     "data": {
      "image/png": "[encoded data removed]",
      "text/plain": [
       "<Figure size 432x288 with 1 Axes>"
      ]
     },
     "metadata": {
      "needs_background": "light"
     },
     "output_type": "display_data"
    }
   ],
   "source": [
    "fpr_test4, tpr_test4, thresholds_test4 = metrics.roc_curve(y_train, pred_proba[0.01],pos_label=1)\n",
    "roc_auc_test4 = metrics.auc(fpr_test4, tpr_test4)\n",
    "plt.plot(fpr_train1,tpr_train1,label='ROC curve - Full Model (area = %0.2f)' % roc_auc_test1)\n",
    "plt.plot(fpr_test3,tpr_test3,label='ROC curve - Random 10 (area = %0.2f)' % roc_auc_test3)\n",
    "plt.plot(fpr_test4,tpr_test4,label='ROC curve - Best 10 (area = %0.2f)' % roc_auc_train4)\n",
    "plt.plot([0, 1], [0, 1], color='navy', linestyle='--')\n",
    "plt.xlim([0.0, 1.0])\n",
    "plt.ylim([0.0, 1.05])\n",
    "plt.xlabel('False Positive Rate')\n",
    "plt.ylabel('True Positive Rate')\n",
    "plt.title('\\nROC Curve on Test Data with 3 Models \\n')\n",
    "plt.legend(loc=\"lower right\")\n",
    "plt.show()"
   ]
  },
  {
   "cell_type": "code",
   "execution_count": null,
   "metadata": {},
   "outputs": [],
   "source": []
  }
 ],
 "metadata": {
  "kernelspec": {
   "display_name": "Python 3",
   "language": "python",
   "name": "python3"
  },
  "language_info": {
   "codemirror_mode": {
    "name": "ipython",
    "version": 3
   },
   "file_extension": ".py",
   "mimetype": "text/x-python",
   "name": "python",
   "nbconvert_exporter": "python",
   "pygments_lexer": "ipython3",
   "version": "3.7.0"
  }
 },
 "nbformat": 4,
 "nbformat_minor": 2
}
